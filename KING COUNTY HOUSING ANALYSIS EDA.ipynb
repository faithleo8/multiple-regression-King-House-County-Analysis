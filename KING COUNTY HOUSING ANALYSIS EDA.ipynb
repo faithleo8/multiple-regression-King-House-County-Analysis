{
 "cells": [
  {
   "cell_type": "markdown",
   "metadata": {},
   "source": [
    "## KING COUNTY HOUSING ANALYSIS"
   ]
  },
  {
   "cell_type": "markdown",
   "metadata": {},
   "source": []
  },
  {
   "cell_type": "markdown",
   "metadata": {},
   "source": [
    "# Stakeholder: \n",
    "Real Estate companies in King County.\n",
    "\n",
    "# Business Problem:\n",
    "Real estate companies need information that would enable them offer home owners with advise on features to improve in their homes and the expected value increase that comes wit these improvements before they list their homes for sale. \n",
    "\n",
    "# Business Question: \n",
    "What are some of the features that a home seller need to improve in order to sell their homes at a higher value?\n",
    "\n",
    "# Data Understanding\n",
    "This project uses the King County House Sales dataset, which can be found in kc_house_data.csv in the data folder in this repo. The description of the column names can be found in column_names.md in the same folder.The original dataset includes sales data for 21,597 homes with 20 different features, which include:\n",
    "\n",
    "~date - Date house was sold\n",
    "\n",
    "~price - Sale price (prediction target)\n",
    "\n",
    "~bedrooms - Number of bedrooms\n",
    "\n",
    "~bathrooms - Number of bathrooms\n",
    "\n",
    "~sqft_living - Square footage of living space in the home\n",
    "\n",
    "~sqft_lot - Square footage of the lot\n",
    "\n",
    "~floors - Number of floors (levels) in house\n",
    "\n",
    "~waterfront - Whether the house is on a waterfront\n",
    "\n",
    "~view - Quality of view from house\n",
    "\n",
    "~condition - How good the overall condition of the house is. Related to maintenance of house\n",
    "\n",
    "~grade - Overall grade of the house. Related to the construction and design of the house\n",
    "\n",
    "~sqft_above - Square footage of house apart from basement\n",
    "\n",
    "~sqft_basement - Square footage of the basement\n",
    "\n",
    "~yr_built - Year when house was built\n",
    "\n",
    "~yr_renovated - Year when house was renovated\n",
    "\n",
    "~zipcode - ZIP Code used by the United States Postal Service\n"
   ]
  },
  {
   "cell_type": "markdown",
   "metadata": {},
   "source": [
    "### Data Preparation\n"
   ]
  },
  {
   "cell_type": "markdown",
   "metadata": {},
   "source": [
    "### Data Cleaning and Processing"
   ]
  },
  {
   "cell_type": "code",
   "execution_count": null,
   "metadata": {},
   "outputs": [],
   "source": [
    "#importing the necessary libraries required for this project\n",
    "import pandas as pd\n",
    "import numpy as np\n",
    "import seaborn as sns\n",
    "from matplotlib import pyplot as plt\n",
    "%matplotlib inline\n",
    "import warnings\n",
    "from sklearn import preprocessing\n",
    "import statsmodels.api as sm\n",
    "import statsmodels.stats.api as sms\n",
    "import statsmodels.formula.api as smf\n",
    "import scipy.stats as stats\n",
    "from statsmodels.stats.outliers_influence import variance_inflation_factor\n",
    "from sklearn.preprocessing import StandardScaler\n",
    "from sklearn.linear_model import LinearRegression\n",
    "import sklearn.metrics as metrics\n",
    "warnings.filterwarnings('ignore')\n",
    "warnings.simplefilter('always', category=UserWarning)"
   ]
  },
  {
   "cell_type": "code",
   "execution_count": 2,
   "metadata": {},
   "outputs": [
    {
     "data": {
      "text/html": [
       "<div>\n",
       "<style scoped>\n",
       "    .dataframe tbody tr th:only-of-type {\n",
       "        vertical-align: middle;\n",
       "    }\n",
       "\n",
       "    .dataframe tbody tr th {\n",
       "        vertical-align: top;\n",
       "    }\n",
       "\n",
       "    .dataframe thead th {\n",
       "        text-align: right;\n",
       "    }\n",
       "</style>\n",
       "<table border=\"1\" class=\"dataframe\">\n",
       "  <thead>\n",
       "    <tr style=\"text-align: right;\">\n",
       "      <th></th>\n",
       "      <th>id</th>\n",
       "      <th>date</th>\n",
       "      <th>price</th>\n",
       "      <th>bedrooms</th>\n",
       "      <th>bathrooms</th>\n",
       "      <th>sqft_living</th>\n",
       "      <th>sqft_lot</th>\n",
       "      <th>floors</th>\n",
       "      <th>waterfront</th>\n",
       "      <th>view</th>\n",
       "      <th>...</th>\n",
       "      <th>grade</th>\n",
       "      <th>sqft_above</th>\n",
       "      <th>sqft_basement</th>\n",
       "      <th>yr_built</th>\n",
       "      <th>yr_renovated</th>\n",
       "      <th>zipcode</th>\n",
       "      <th>lat</th>\n",
       "      <th>long</th>\n",
       "      <th>sqft_living15</th>\n",
       "      <th>sqft_lot15</th>\n",
       "    </tr>\n",
       "  </thead>\n",
       "  <tbody>\n",
       "    <tr>\n",
       "      <th>0</th>\n",
       "      <td>7129300520</td>\n",
       "      <td>10/13/2014</td>\n",
       "      <td>221900.0</td>\n",
       "      <td>3</td>\n",
       "      <td>1.00</td>\n",
       "      <td>1180</td>\n",
       "      <td>5650</td>\n",
       "      <td>1.0</td>\n",
       "      <td>NaN</td>\n",
       "      <td>NONE</td>\n",
       "      <td>...</td>\n",
       "      <td>7 Average</td>\n",
       "      <td>1180</td>\n",
       "      <td>0.0</td>\n",
       "      <td>1955</td>\n",
       "      <td>0.0</td>\n",
       "      <td>98178</td>\n",
       "      <td>47.5112</td>\n",
       "      <td>-122.257</td>\n",
       "      <td>1340</td>\n",
       "      <td>5650</td>\n",
       "    </tr>\n",
       "    <tr>\n",
       "      <th>1</th>\n",
       "      <td>6414100192</td>\n",
       "      <td>12/9/2014</td>\n",
       "      <td>538000.0</td>\n",
       "      <td>3</td>\n",
       "      <td>2.25</td>\n",
       "      <td>2570</td>\n",
       "      <td>7242</td>\n",
       "      <td>2.0</td>\n",
       "      <td>NO</td>\n",
       "      <td>NONE</td>\n",
       "      <td>...</td>\n",
       "      <td>7 Average</td>\n",
       "      <td>2170</td>\n",
       "      <td>400.0</td>\n",
       "      <td>1951</td>\n",
       "      <td>1991.0</td>\n",
       "      <td>98125</td>\n",
       "      <td>47.7210</td>\n",
       "      <td>-122.319</td>\n",
       "      <td>1690</td>\n",
       "      <td>7639</td>\n",
       "    </tr>\n",
       "    <tr>\n",
       "      <th>2</th>\n",
       "      <td>5631500400</td>\n",
       "      <td>2/25/2015</td>\n",
       "      <td>180000.0</td>\n",
       "      <td>2</td>\n",
       "      <td>1.00</td>\n",
       "      <td>770</td>\n",
       "      <td>10000</td>\n",
       "      <td>1.0</td>\n",
       "      <td>NO</td>\n",
       "      <td>NONE</td>\n",
       "      <td>...</td>\n",
       "      <td>6 Low Average</td>\n",
       "      <td>770</td>\n",
       "      <td>0.0</td>\n",
       "      <td>1933</td>\n",
       "      <td>NaN</td>\n",
       "      <td>98028</td>\n",
       "      <td>47.7379</td>\n",
       "      <td>-122.233</td>\n",
       "      <td>2720</td>\n",
       "      <td>8062</td>\n",
       "    </tr>\n",
       "    <tr>\n",
       "      <th>3</th>\n",
       "      <td>2487200875</td>\n",
       "      <td>12/9/2014</td>\n",
       "      <td>604000.0</td>\n",
       "      <td>4</td>\n",
       "      <td>3.00</td>\n",
       "      <td>1960</td>\n",
       "      <td>5000</td>\n",
       "      <td>1.0</td>\n",
       "      <td>NO</td>\n",
       "      <td>NONE</td>\n",
       "      <td>...</td>\n",
       "      <td>7 Average</td>\n",
       "      <td>1050</td>\n",
       "      <td>910.0</td>\n",
       "      <td>1965</td>\n",
       "      <td>0.0</td>\n",
       "      <td>98136</td>\n",
       "      <td>47.5208</td>\n",
       "      <td>-122.393</td>\n",
       "      <td>1360</td>\n",
       "      <td>5000</td>\n",
       "    </tr>\n",
       "    <tr>\n",
       "      <th>4</th>\n",
       "      <td>1954400510</td>\n",
       "      <td>2/18/2015</td>\n",
       "      <td>510000.0</td>\n",
       "      <td>3</td>\n",
       "      <td>2.00</td>\n",
       "      <td>1680</td>\n",
       "      <td>8080</td>\n",
       "      <td>1.0</td>\n",
       "      <td>NO</td>\n",
       "      <td>NONE</td>\n",
       "      <td>...</td>\n",
       "      <td>8 Good</td>\n",
       "      <td>1680</td>\n",
       "      <td>0.0</td>\n",
       "      <td>1987</td>\n",
       "      <td>0.0</td>\n",
       "      <td>98074</td>\n",
       "      <td>47.6168</td>\n",
       "      <td>-122.045</td>\n",
       "      <td>1800</td>\n",
       "      <td>7503</td>\n",
       "    </tr>\n",
       "  </tbody>\n",
       "</table>\n",
       "<p>5 rows × 21 columns</p>\n",
       "</div>"
      ],
      "text/plain": [
       "           id        date     price  bedrooms  bathrooms  sqft_living  \\\n",
       "0  7129300520  10/13/2014  221900.0         3       1.00         1180   \n",
       "1  6414100192   12/9/2014  538000.0         3       2.25         2570   \n",
       "2  5631500400   2/25/2015  180000.0         2       1.00          770   \n",
       "3  2487200875   12/9/2014  604000.0         4       3.00         1960   \n",
       "4  1954400510   2/18/2015  510000.0         3       2.00         1680   \n",
       "\n",
       "   sqft_lot  floors waterfront  view  ...          grade sqft_above  \\\n",
       "0      5650     1.0        NaN  NONE  ...      7 Average       1180   \n",
       "1      7242     2.0         NO  NONE  ...      7 Average       2170   \n",
       "2     10000     1.0         NO  NONE  ...  6 Low Average        770   \n",
       "3      5000     1.0         NO  NONE  ...      7 Average       1050   \n",
       "4      8080     1.0         NO  NONE  ...         8 Good       1680   \n",
       "\n",
       "   sqft_basement yr_built  yr_renovated  zipcode      lat     long  \\\n",
       "0            0.0     1955           0.0    98178  47.5112 -122.257   \n",
       "1          400.0     1951        1991.0    98125  47.7210 -122.319   \n",
       "2            0.0     1933           NaN    98028  47.7379 -122.233   \n",
       "3          910.0     1965           0.0    98136  47.5208 -122.393   \n",
       "4            0.0     1987           0.0    98074  47.6168 -122.045   \n",
       "\n",
       "   sqft_living15  sqft_lot15  \n",
       "0           1340        5650  \n",
       "1           1690        7639  \n",
       "2           2720        8062  \n",
       "3           1360        5000  \n",
       "4           1800        7503  \n",
       "\n",
       "[5 rows x 21 columns]"
      ]
     },
     "execution_count": 2,
     "metadata": {},
     "output_type": "execute_result"
    }
   ],
   "source": [
    "#importing and viewing the data\n",
    "data = pd.read_csv(\"kc_house_data.csv\")\n",
    "data.head()"
   ]
  },
  {
   "cell_type": "code",
   "execution_count": 3,
   "metadata": {},
   "outputs": [
    {
     "data": {
      "text/plain": [
       "(21597, 21)"
      ]
     },
     "execution_count": 3,
     "metadata": {},
     "output_type": "execute_result"
    }
   ],
   "source": [
    "#the number of rows and columns present in the data\n",
    "data.shape"
   ]
  },
  {
   "cell_type": "markdown",
   "metadata": {},
   "source": [
    "For this project we are trying to research and offer insights to home owners or real estate vendors on the feature reinnovation that would lead to a higher value estimation for their homes, therefore we can start by deleting the columns that we do not require"
   ]
  },
  {
   "cell_type": "code",
   "execution_count": 4,
   "metadata": {},
   "outputs": [],
   "source": [
    "data.drop(columns= [\"zipcode\",\"lat\",\"long\",\"date\",\"sqft_lot\",\"sqft_living15\",\"sqft_lot15\"],inplace = True)"
   ]
  },
  {
   "cell_type": "code",
   "execution_count": 5,
   "metadata": {},
   "outputs": [
    {
     "name": "stdout",
     "output_type": "stream",
     "text": [
      "<class 'pandas.core.frame.DataFrame'>\n",
      "RangeIndex: 21597 entries, 0 to 21596\n",
      "Data columns (total 14 columns):\n",
      " #   Column         Non-Null Count  Dtype  \n",
      "---  ------         --------------  -----  \n",
      " 0   id             21597 non-null  int64  \n",
      " 1   price          21597 non-null  float64\n",
      " 2   bedrooms       21597 non-null  int64  \n",
      " 3   bathrooms      21597 non-null  float64\n",
      " 4   sqft_living    21597 non-null  int64  \n",
      " 5   floors         21597 non-null  float64\n",
      " 6   waterfront     19221 non-null  object \n",
      " 7   view           21534 non-null  object \n",
      " 8   condition      21597 non-null  object \n",
      " 9   grade          21597 non-null  object \n",
      " 10  sqft_above     21597 non-null  int64  \n",
      " 11  sqft_basement  21597 non-null  object \n",
      " 12  yr_built       21597 non-null  int64  \n",
      " 13  yr_renovated   17755 non-null  float64\n",
      "dtypes: float64(4), int64(5), object(5)\n",
      "memory usage: 2.3+ MB\n"
     ]
    }
   ],
   "source": [
    "#entries and the columns that have missing values.\n",
    "data.info()"
   ]
  },
  {
   "cell_type": "markdown",
   "metadata": {},
   "source": [
    "From the infromation above, we can see that three columns waterfront,yr_renovated and view have missing values as their etries are lower. \n",
    "We therefore have to look into ways to deal with the missing values."
   ]
  },
  {
   "cell_type": "markdown",
   "metadata": {},
   "source": [
    "## ASSESS THE TARGET VARIABLE \"PRICE\""
   ]
  },
  {
   "cell_type": "code",
   "execution_count": 6,
   "metadata": {},
   "outputs": [
    {
     "name": "stdout",
     "output_type": "stream",
     "text": [
      "Skew is: 4.023364652271239\n"
     ]
    },
    {
     "data": {
      "image/png": "[encoded data removed]",
      "text/plain": [
       "<Figure size 576x288 with 1 Axes>"
      ]
     },
     "metadata": {
      "needs_background": "light"
     },
     "output_type": "display_data"
    }
   ],
   "source": [
    "print(\"Skew is:\",data.price.skew())\n",
    "plt.figure(figsize=(8,4))\n",
    "plt.hist(data.price, color='blue')\n",
    "plt.show()"
   ]
  },
  {
   "cell_type": "markdown",
   "metadata": {},
   "source": [
    "### using log tranfromations to reduce on the skewness"
   ]
  },
  {
   "cell_type": "code",
   "execution_count": 7,
   "metadata": {},
   "outputs": [
    {
     "name": "stdout",
     "output_type": "stream",
     "text": [
      "Skew is: 0.4310041773299232\n"
     ]
    },
    {
     "data": {
      "image/png": "[encoded data removed]",
      "text/plain": [
       "<Figure size 576x288 with 1 Axes>"
      ]
     },
     "metadata": {
      "needs_background": "light"
     },
     "output_type": "display_data"
    }
   ],
   "source": [
    "target = np.log(data.price)\n",
    "print (\"Skew is:\", target.skew())\n",
    "plt.figure(figsize=(8,4))\n",
    "plt.hist(target, color='red')\n",
    "plt.show()"
   ]
  },
  {
   "cell_type": "markdown",
   "metadata": {},
   "source": [
    "Theres a possibility of existence of duplicates within the data set.\n",
    "Inorder to check for duplicate values, lets consider the id column since its the unique identifier."
   ]
  },
  {
   "cell_type": "code",
   "execution_count": 8,
   "metadata": {},
   "outputs": [
    {
     "data": {
      "text/plain": [
       "177"
      ]
     },
     "execution_count": 8,
     "metadata": {},
     "output_type": "execute_result"
    }
   ],
   "source": [
    "data[\"id\"].duplicated().sum()"
   ]
  },
  {
   "cell_type": "code",
   "execution_count": 9,
   "metadata": {},
   "outputs": [
    {
     "data": {
      "text/html": [
       "<div>\n",
       "<style scoped>\n",
       "    .dataframe tbody tr th:only-of-type {\n",
       "        vertical-align: middle;\n",
       "    }\n",
       "\n",
       "    .dataframe tbody tr th {\n",
       "        vertical-align: top;\n",
       "    }\n",
       "\n",
       "    .dataframe thead th {\n",
       "        text-align: right;\n",
       "    }\n",
       "</style>\n",
       "<table border=\"1\" class=\"dataframe\">\n",
       "  <thead>\n",
       "    <tr style=\"text-align: right;\">\n",
       "      <th></th>\n",
       "      <th>id</th>\n",
       "      <th>price</th>\n",
       "      <th>bedrooms</th>\n",
       "      <th>bathrooms</th>\n",
       "      <th>sqft_living</th>\n",
       "      <th>floors</th>\n",
       "      <th>waterfront</th>\n",
       "      <th>view</th>\n",
       "      <th>condition</th>\n",
       "      <th>grade</th>\n",
       "      <th>sqft_above</th>\n",
       "      <th>sqft_basement</th>\n",
       "      <th>yr_built</th>\n",
       "      <th>yr_renovated</th>\n",
       "    </tr>\n",
       "  </thead>\n",
       "  <tbody>\n",
       "    <tr>\n",
       "      <th>0</th>\n",
       "      <td>7129300520</td>\n",
       "      <td>221900.0</td>\n",
       "      <td>3</td>\n",
       "      <td>1.00</td>\n",
       "      <td>1180</td>\n",
       "      <td>1.0</td>\n",
       "      <td>NaN</td>\n",
       "      <td>NONE</td>\n",
       "      <td>Average</td>\n",
       "      <td>7 Average</td>\n",
       "      <td>1180</td>\n",
       "      <td>0.0</td>\n",
       "      <td>1955</td>\n",
       "      <td>0.0</td>\n",
       "    </tr>\n",
       "    <tr>\n",
       "      <th>1</th>\n",
       "      <td>6414100192</td>\n",
       "      <td>538000.0</td>\n",
       "      <td>3</td>\n",
       "      <td>2.25</td>\n",
       "      <td>2570</td>\n",
       "      <td>2.0</td>\n",
       "      <td>NO</td>\n",
       "      <td>NONE</td>\n",
       "      <td>Average</td>\n",
       "      <td>7 Average</td>\n",
       "      <td>2170</td>\n",
       "      <td>400.0</td>\n",
       "      <td>1951</td>\n",
       "      <td>1991.0</td>\n",
       "    </tr>\n",
       "    <tr>\n",
       "      <th>2</th>\n",
       "      <td>5631500400</td>\n",
       "      <td>180000.0</td>\n",
       "      <td>2</td>\n",
       "      <td>1.00</td>\n",
       "      <td>770</td>\n",
       "      <td>1.0</td>\n",
       "      <td>NO</td>\n",
       "      <td>NONE</td>\n",
       "      <td>Average</td>\n",
       "      <td>6 Low Average</td>\n",
       "      <td>770</td>\n",
       "      <td>0.0</td>\n",
       "      <td>1933</td>\n",
       "      <td>NaN</td>\n",
       "    </tr>\n",
       "    <tr>\n",
       "      <th>3</th>\n",
       "      <td>2487200875</td>\n",
       "      <td>604000.0</td>\n",
       "      <td>4</td>\n",
       "      <td>3.00</td>\n",
       "      <td>1960</td>\n",
       "      <td>1.0</td>\n",
       "      <td>NO</td>\n",
       "      <td>NONE</td>\n",
       "      <td>Very Good</td>\n",
       "      <td>7 Average</td>\n",
       "      <td>1050</td>\n",
       "      <td>910.0</td>\n",
       "      <td>1965</td>\n",
       "      <td>0.0</td>\n",
       "    </tr>\n",
       "    <tr>\n",
       "      <th>4</th>\n",
       "      <td>1954400510</td>\n",
       "      <td>510000.0</td>\n",
       "      <td>3</td>\n",
       "      <td>2.00</td>\n",
       "      <td>1680</td>\n",
       "      <td>1.0</td>\n",
       "      <td>NO</td>\n",
       "      <td>NONE</td>\n",
       "      <td>Average</td>\n",
       "      <td>8 Good</td>\n",
       "      <td>1680</td>\n",
       "      <td>0.0</td>\n",
       "      <td>1987</td>\n",
       "      <td>0.0</td>\n",
       "    </tr>\n",
       "  </tbody>\n",
       "</table>\n",
       "</div>"
      ],
      "text/plain": [
       "           id     price  bedrooms  bathrooms  sqft_living  floors waterfront  \\\n",
       "0  7129300520  221900.0         3       1.00         1180     1.0        NaN   \n",
       "1  6414100192  538000.0         3       2.25         2570     2.0         NO   \n",
       "2  5631500400  180000.0         2       1.00          770     1.0         NO   \n",
       "3  2487200875  604000.0         4       3.00         1960     1.0         NO   \n",
       "4  1954400510  510000.0         3       2.00         1680     1.0         NO   \n",
       "\n",
       "   view  condition          grade  sqft_above sqft_basement  yr_built  \\\n",
       "0  NONE    Average      7 Average        1180           0.0      1955   \n",
       "1  NONE    Average      7 Average        2170         400.0      1951   \n",
       "2  NONE    Average  6 Low Average         770           0.0      1933   \n",
       "3  NONE  Very Good      7 Average        1050         910.0      1965   \n",
       "4  NONE    Average         8 Good        1680           0.0      1987   \n",
       "\n",
       "   yr_renovated  \n",
       "0           0.0  \n",
       "1        1991.0  \n",
       "2           NaN  \n",
       "3           0.0  \n",
       "4           0.0  "
      ]
     },
     "execution_count": 9,
     "metadata": {},
     "output_type": "execute_result"
    }
   ],
   "source": [
    "data.drop_duplicates(subset= 'id', keep= 'last', inplace= True)\n",
    "data.head()"
   ]
  },
  {
   "cell_type": "markdown",
   "metadata": {},
   "source": [
    "## HANDLING MISSING VALUES"
   ]
  },
  {
   "cell_type": "markdown",
   "metadata": {},
   "source": [
    "### view column missing values"
   ]
  },
  {
   "cell_type": "markdown",
   "metadata": {},
   "source": [
    "##### waterfront column missing values"
   ]
  },
  {
   "cell_type": "code",
   "execution_count": 10,
   "metadata": {},
   "outputs": [
    {
     "name": "stdout",
     "output_type": "stream",
     "text": [
      "The percentage of missing values in respect to the total data is 0.10985060690943044\n",
      "[nan 'NO' 'YES']\n"
     ]
    }
   ],
   "source": [
    "#whats the percentage of null in regards to the whole data\n",
    "null_Per = (data[\"waterfront\"].isna().sum())/len(data[\"waterfront\"])\n",
    "print(f\"The percentage of missing values in respect to the total data is {null_Per}\")\n",
    "print(data[\"waterfront\"].unique())"
   ]
  },
  {
   "cell_type": "code",
   "execution_count": 11,
   "metadata": {},
   "outputs": [
    {
     "data": {
      "text/plain": [
       "NO     0.992343\n",
       "YES    0.007657\n",
       "Name: waterfront, dtype: float64"
      ]
     },
     "execution_count": 11,
     "metadata": {},
     "output_type": "execute_result"
    }
   ],
   "source": [
    "\n",
    "data[\"waterfront\"].value_counts(normalize= True)"
   ]
  },
  {
   "cell_type": "code",
   "execution_count": 12,
   "metadata": {},
   "outputs": [],
   "source": [
    "data['waterfront'].replace(\"YES\", 1, inplace = True)\n",
    "data['waterfront'].replace(\"NO\", 0, inplace = True)\n",
    "data['waterfront'].fillna(value = 0, inplace = True)"
   ]
  },
  {
   "cell_type": "code",
   "execution_count": 13,
   "metadata": {},
   "outputs": [
    {
     "data": {
      "text/html": [
       "<div>\n",
       "<style scoped>\n",
       "    .dataframe tbody tr th:only-of-type {\n",
       "        vertical-align: middle;\n",
       "    }\n",
       "\n",
       "    .dataframe tbody tr th {\n",
       "        vertical-align: top;\n",
       "    }\n",
       "\n",
       "    .dataframe thead th {\n",
       "        text-align: right;\n",
       "    }\n",
       "</style>\n",
       "<table border=\"1\" class=\"dataframe\">\n",
       "  <thead>\n",
       "    <tr style=\"text-align: right;\">\n",
       "      <th></th>\n",
       "      <th>id</th>\n",
       "      <th>price</th>\n",
       "      <th>bedrooms</th>\n",
       "      <th>bathrooms</th>\n",
       "      <th>sqft_living</th>\n",
       "      <th>floors</th>\n",
       "      <th>waterfront</th>\n",
       "      <th>view</th>\n",
       "      <th>condition</th>\n",
       "      <th>grade</th>\n",
       "      <th>sqft_above</th>\n",
       "      <th>sqft_basement</th>\n",
       "      <th>yr_built</th>\n",
       "      <th>yr_renovated</th>\n",
       "    </tr>\n",
       "  </thead>\n",
       "  <tbody>\n",
       "    <tr>\n",
       "      <th>0</th>\n",
       "      <td>7129300520</td>\n",
       "      <td>221900.0</td>\n",
       "      <td>3</td>\n",
       "      <td>1.00</td>\n",
       "      <td>1180</td>\n",
       "      <td>1.0</td>\n",
       "      <td>0.0</td>\n",
       "      <td>NONE</td>\n",
       "      <td>Average</td>\n",
       "      <td>7 Average</td>\n",
       "      <td>1180</td>\n",
       "      <td>0.0</td>\n",
       "      <td>1955</td>\n",
       "      <td>0.0</td>\n",
       "    </tr>\n",
       "    <tr>\n",
       "      <th>1</th>\n",
       "      <td>6414100192</td>\n",
       "      <td>538000.0</td>\n",
       "      <td>3</td>\n",
       "      <td>2.25</td>\n",
       "      <td>2570</td>\n",
       "      <td>2.0</td>\n",
       "      <td>0.0</td>\n",
       "      <td>NONE</td>\n",
       "      <td>Average</td>\n",
       "      <td>7 Average</td>\n",
       "      <td>2170</td>\n",
       "      <td>400.0</td>\n",
       "      <td>1951</td>\n",
       "      <td>1991.0</td>\n",
       "    </tr>\n",
       "    <tr>\n",
       "      <th>2</th>\n",
       "      <td>5631500400</td>\n",
       "      <td>180000.0</td>\n",
       "      <td>2</td>\n",
       "      <td>1.00</td>\n",
       "      <td>770</td>\n",
       "      <td>1.0</td>\n",
       "      <td>0.0</td>\n",
       "      <td>NONE</td>\n",
       "      <td>Average</td>\n",
       "      <td>6 Low Average</td>\n",
       "      <td>770</td>\n",
       "      <td>0.0</td>\n",
       "      <td>1933</td>\n",
       "      <td>NaN</td>\n",
       "    </tr>\n",
       "    <tr>\n",
       "      <th>3</th>\n",
       "      <td>2487200875</td>\n",
       "      <td>604000.0</td>\n",
       "      <td>4</td>\n",
       "      <td>3.00</td>\n",
       "      <td>1960</td>\n",
       "      <td>1.0</td>\n",
       "      <td>0.0</td>\n",
       "      <td>NONE</td>\n",
       "      <td>Very Good</td>\n",
       "      <td>7 Average</td>\n",
       "      <td>1050</td>\n",
       "      <td>910.0</td>\n",
       "      <td>1965</td>\n",
       "      <td>0.0</td>\n",
       "    </tr>\n",
       "    <tr>\n",
       "      <th>4</th>\n",
       "      <td>1954400510</td>\n",
       "      <td>510000.0</td>\n",
       "      <td>3</td>\n",
       "      <td>2.00</td>\n",
       "      <td>1680</td>\n",
       "      <td>1.0</td>\n",
       "      <td>0.0</td>\n",
       "      <td>NONE</td>\n",
       "      <td>Average</td>\n",
       "      <td>8 Good</td>\n",
       "      <td>1680</td>\n",
       "      <td>0.0</td>\n",
       "      <td>1987</td>\n",
       "      <td>0.0</td>\n",
       "    </tr>\n",
       "  </tbody>\n",
       "</table>\n",
       "</div>"
      ],
      "text/plain": [
       "           id     price  bedrooms  bathrooms  sqft_living  floors  waterfront  \\\n",
       "0  7129300520  221900.0         3       1.00         1180     1.0         0.0   \n",
       "1  6414100192  538000.0         3       2.25         2570     2.0         0.0   \n",
       "2  5631500400  180000.0         2       1.00          770     1.0         0.0   \n",
       "3  2487200875  604000.0         4       3.00         1960     1.0         0.0   \n",
       "4  1954400510  510000.0         3       2.00         1680     1.0         0.0   \n",
       "\n",
       "   view  condition          grade  sqft_above sqft_basement  yr_built  \\\n",
       "0  NONE    Average      7 Average        1180           0.0      1955   \n",
       "1  NONE    Average      7 Average        2170         400.0      1951   \n",
       "2  NONE    Average  6 Low Average         770           0.0      1933   \n",
       "3  NONE  Very Good      7 Average        1050         910.0      1965   \n",
       "4  NONE    Average         8 Good        1680           0.0      1987   \n",
       "\n",
       "   yr_renovated  \n",
       "0           0.0  \n",
       "1        1991.0  \n",
       "2           NaN  \n",
       "3           0.0  \n",
       "4           0.0  "
      ]
     },
     "execution_count": 13,
     "metadata": {},
     "output_type": "execute_result"
    }
   ],
   "source": [
    "data.head()"
   ]
  },
  {
   "cell_type": "markdown",
   "metadata": {},
   "source": [
    "##### yr_renovated missing values"
   ]
  },
  {
   "cell_type": "code",
   "execution_count": 14,
   "metadata": {},
   "outputs": [
    {
     "data": {
      "text/plain": [
       "0.17801120448179272"
      ]
     },
     "execution_count": 14,
     "metadata": {},
     "output_type": "execute_result"
    }
   ],
   "source": [
    "x = data[\"yr_renovated\"].isna().sum()/len(data[\"yr_renovated\"])\n",
    "x"
   ]
  },
  {
   "cell_type": "code",
   "execution_count": 15,
   "metadata": {},
   "outputs": [
    {
     "name": "stdout",
     "output_type": "stream",
     "text": [
      "proportion of null values to the whole data in yr_renovated column is 0.17801120448179272\n"
     ]
    }
   ],
   "source": [
    "print(f\"proportion of null values to the whole data in yr_renovated column is {x}\")"
   ]
  },
  {
   "cell_type": "code",
   "execution_count": 16,
   "metadata": {},
   "outputs": [
    {
     "data": {
      "text/plain": [
       "0.0       16867\n",
       "2014.0       73\n",
       "2003.0       31\n",
       "2013.0       31\n",
       "2007.0       30\n",
       "          ...  \n",
       "1934.0        1\n",
       "1971.0        1\n",
       "1954.0        1\n",
       "1950.0        1\n",
       "1944.0        1\n",
       "Name: yr_renovated, Length: 70, dtype: int64"
      ]
     },
     "execution_count": 16,
     "metadata": {},
     "output_type": "execute_result"
    }
   ],
   "source": [
    "#17011 houses havent been re innovated\n",
    "data[\"yr_renovated\"].value_counts()"
   ]
  },
  {
   "cell_type": "markdown",
   "metadata": {},
   "source": [
    "since we ae dealing with years it is more realistic to just drop the rows with Nan values which symbolises the fact that the re innovation year is unknown. \n",
    "We can further change the columns in order to be nore readable and understandable by assigning the columns to a 1 if the renovation was done and a 0 if it wasnt done."
   ]
  },
  {
   "cell_type": "code",
   "execution_count": 17,
   "metadata": {},
   "outputs": [
    {
     "data": {
      "text/plain": [
       "0    16867\n",
       "1      740\n",
       "Name: renovation_status, dtype: int64"
      ]
     },
     "execution_count": 17,
     "metadata": {},
     "output_type": "execute_result"
    }
   ],
   "source": [
    "data.dropna(subset = ['yr_renovated'], inplace = True)\n",
    "data['renovation_status'] = data.yr_renovated.map(lambda x: 0 if x == 0 else 1)#transforming ye_renovated to dichotomous variable\n",
    "data.drop(['yr_renovated'], axis = 1, inplace = True)\n",
    "data['renovation_status'].value_counts()"
   ]
  },
  {
   "cell_type": "markdown",
   "metadata": {},
   "source": [
    "##### sqft_basement cleaning"
   ]
  },
  {
   "cell_type": "code",
   "execution_count": 18,
   "metadata": {},
   "outputs": [],
   "source": [
    "#transforming sqft_basement to a dichotmous variable\n",
    "data['sqft_basement'].replace('?', 0.0, inplace = True)\n",
    "data['sqft_basement'] = data['sqft_basement'].astype(float).astype(int)\n",
    "data['Has_basement'] = data.sqft_basement.apply(lambda x: 1 if x > 0 else 0)\n",
    "data.drop(['sqft_basement'], axis = 1, inplace = True)\n",
    "#data['Has_basement'].value_counts()\n",
    "\n",
    "\n"
   ]
  },
  {
   "cell_type": "markdown",
   "metadata": {},
   "source": [
    "##### view cleaning"
   ]
  },
  {
   "cell_type": "code",
   "execution_count": 19,
   "metadata": {},
   "outputs": [],
   "source": [
    "#print(data[\"view\"].isna().sum())\n",
    "#print(\"The number of null values in the Has a view column is:\" ,data[\"view\"].isna().sum())\n",
    "#data[\"Has_a_view\"].value_counts()\n",
    "data['view'].fillna(value = 'NONE',inplace = True)\n",
    "data['Has_view'] = data['view']\n",
    "data['Has_view'].replace('NONE', 0, inplace = True)\n",
    "data['Has_view'].replace(['AVERAGE','GOOD','FAIR', 'EXCELLENT'], 1, inplace = True)\n",
    "data.drop(columns = ['view'], inplace = True)"
   ]
  },
  {
   "cell_type": "code",
   "execution_count": 20,
   "metadata": {},
   "outputs": [
    {
     "name": "stdout",
     "output_type": "stream",
     "text": [
      "<class 'pandas.core.frame.DataFrame'>\n",
      "Int64Index: 17607 entries, 0 to 21596\n",
      "Data columns (total 14 columns):\n",
      " #   Column             Non-Null Count  Dtype  \n",
      "---  ------             --------------  -----  \n",
      " 0   id                 17607 non-null  int64  \n",
      " 1   price              17607 non-null  float64\n",
      " 2   bedrooms           17607 non-null  int64  \n",
      " 3   bathrooms          17607 non-null  float64\n",
      " 4   sqft_living        17607 non-null  int64  \n",
      " 5   floors             17607 non-null  float64\n",
      " 6   waterfront         17607 non-null  float64\n",
      " 7   condition          17607 non-null  object \n",
      " 8   grade              17607 non-null  object \n",
      " 9   sqft_above         17607 non-null  int64  \n",
      " 10  yr_built           17607 non-null  int64  \n",
      " 11  renovation_status  17607 non-null  int64  \n",
      " 12  Has_basement       17607 non-null  int64  \n",
      " 13  Has_view           17607 non-null  int64  \n",
      "dtypes: float64(4), int64(8), object(2)\n",
      "memory usage: 2.0+ MB\n"
     ]
    }
   ],
   "source": [
    "data.info()"
   ]
  },
  {
   "cell_type": "code",
   "execution_count": 21,
   "metadata": {},
   "outputs": [
    {
     "data": {
      "text/plain": [
       "id                   0\n",
       "price                0\n",
       "bedrooms             0\n",
       "bathrooms            0\n",
       "sqft_living          0\n",
       "floors               0\n",
       "waterfront           0\n",
       "condition            0\n",
       "grade                0\n",
       "sqft_above           0\n",
       "yr_built             0\n",
       "renovation_status    0\n",
       "Has_basement         0\n",
       "Has_view             0\n",
       "dtype: int64"
      ]
     },
     "execution_count": 21,
     "metadata": {},
     "output_type": "execute_result"
    }
   ],
   "source": [
    "data.isna().sum()"
   ]
  },
  {
   "cell_type": "code",
   "execution_count": 22,
   "metadata": {},
   "outputs": [
    {
     "data": {
      "text/html": [
       "<div>\n",
       "<style scoped>\n",
       "    .dataframe tbody tr th:only-of-type {\n",
       "        vertical-align: middle;\n",
       "    }\n",
       "\n",
       "    .dataframe tbody tr th {\n",
       "        vertical-align: top;\n",
       "    }\n",
       "\n",
       "    .dataframe thead th {\n",
       "        text-align: right;\n",
       "    }\n",
       "</style>\n",
       "<table border=\"1\" class=\"dataframe\">\n",
       "  <thead>\n",
       "    <tr style=\"text-align: right;\">\n",
       "      <th></th>\n",
       "      <th>id</th>\n",
       "      <th>price</th>\n",
       "      <th>bedrooms</th>\n",
       "      <th>bathrooms</th>\n",
       "      <th>sqft_living</th>\n",
       "      <th>floors</th>\n",
       "      <th>waterfront</th>\n",
       "      <th>sqft_above</th>\n",
       "      <th>yr_built</th>\n",
       "      <th>renovation_status</th>\n",
       "      <th>Has_basement</th>\n",
       "      <th>Has_view</th>\n",
       "    </tr>\n",
       "  </thead>\n",
       "  <tbody>\n",
       "    <tr>\n",
       "      <th>count</th>\n",
       "      <td>1.760700e+04</td>\n",
       "      <td>1.760700e+04</td>\n",
       "      <td>17607.000000</td>\n",
       "      <td>17607.000000</td>\n",
       "      <td>17607.000000</td>\n",
       "      <td>17607.000000</td>\n",
       "      <td>17607.000000</td>\n",
       "      <td>17607.000000</td>\n",
       "      <td>17607.000000</td>\n",
       "      <td>17607.000000</td>\n",
       "      <td>17607.000000</td>\n",
       "      <td>17607.000000</td>\n",
       "    </tr>\n",
       "    <tr>\n",
       "      <th>mean</th>\n",
       "      <td>4.584720e+09</td>\n",
       "      <td>5.421997e+05</td>\n",
       "      <td>3.378997</td>\n",
       "      <td>2.122835</td>\n",
       "      <td>2086.896518</td>\n",
       "      <td>1.497757</td>\n",
       "      <td>0.006872</td>\n",
       "      <td>1794.152383</td>\n",
       "      <td>1971.199920</td>\n",
       "      <td>0.042029</td>\n",
       "      <td>0.385301</td>\n",
       "      <td>0.097972</td>\n",
       "    </tr>\n",
       "    <tr>\n",
       "      <th>std</th>\n",
       "      <td>2.876432e+09</td>\n",
       "      <td>3.696179e+05</td>\n",
       "      <td>0.931724</td>\n",
       "      <td>0.767305</td>\n",
       "      <td>918.146177</td>\n",
       "      <td>0.538776</td>\n",
       "      <td>0.082616</td>\n",
       "      <td>827.487426</td>\n",
       "      <td>29.364209</td>\n",
       "      <td>0.200660</td>\n",
       "      <td>0.486680</td>\n",
       "      <td>0.297286</td>\n",
       "    </tr>\n",
       "    <tr>\n",
       "      <th>min</th>\n",
       "      <td>1.000102e+06</td>\n",
       "      <td>8.000000e+04</td>\n",
       "      <td>1.000000</td>\n",
       "      <td>0.500000</td>\n",
       "      <td>370.000000</td>\n",
       "      <td>1.000000</td>\n",
       "      <td>0.000000</td>\n",
       "      <td>370.000000</td>\n",
       "      <td>1900.000000</td>\n",
       "      <td>0.000000</td>\n",
       "      <td>0.000000</td>\n",
       "      <td>0.000000</td>\n",
       "    </tr>\n",
       "    <tr>\n",
       "      <th>25%</th>\n",
       "      <td>2.125405e+09</td>\n",
       "      <td>3.249250e+05</td>\n",
       "      <td>3.000000</td>\n",
       "      <td>1.750000</td>\n",
       "      <td>1430.000000</td>\n",
       "      <td>1.000000</td>\n",
       "      <td>0.000000</td>\n",
       "      <td>1200.000000</td>\n",
       "      <td>1952.000000</td>\n",
       "      <td>0.000000</td>\n",
       "      <td>0.000000</td>\n",
       "      <td>0.000000</td>\n",
       "    </tr>\n",
       "    <tr>\n",
       "      <th>50%</th>\n",
       "      <td>3.904980e+09</td>\n",
       "      <td>4.510000e+05</td>\n",
       "      <td>3.000000</td>\n",
       "      <td>2.250000</td>\n",
       "      <td>1920.000000</td>\n",
       "      <td>1.500000</td>\n",
       "      <td>0.000000</td>\n",
       "      <td>1570.000000</td>\n",
       "      <td>1975.000000</td>\n",
       "      <td>0.000000</td>\n",
       "      <td>0.000000</td>\n",
       "      <td>0.000000</td>\n",
       "    </tr>\n",
       "    <tr>\n",
       "      <th>75%</th>\n",
       "      <td>7.316150e+09</td>\n",
       "      <td>6.457500e+05</td>\n",
       "      <td>4.000000</td>\n",
       "      <td>2.500000</td>\n",
       "      <td>2550.000000</td>\n",
       "      <td>2.000000</td>\n",
       "      <td>0.000000</td>\n",
       "      <td>2220.000000</td>\n",
       "      <td>1997.000000</td>\n",
       "      <td>0.000000</td>\n",
       "      <td>1.000000</td>\n",
       "      <td>0.000000</td>\n",
       "    </tr>\n",
       "    <tr>\n",
       "      <th>max</th>\n",
       "      <td>9.895000e+09</td>\n",
       "      <td>7.700000e+06</td>\n",
       "      <td>33.000000</td>\n",
       "      <td>8.000000</td>\n",
       "      <td>13540.000000</td>\n",
       "      <td>3.500000</td>\n",
       "      <td>1.000000</td>\n",
       "      <td>9410.000000</td>\n",
       "      <td>2015.000000</td>\n",
       "      <td>1.000000</td>\n",
       "      <td>1.000000</td>\n",
       "      <td>1.000000</td>\n",
       "    </tr>\n",
       "  </tbody>\n",
       "</table>\n",
       "</div>"
      ],
      "text/plain": [
       "                 id         price      bedrooms     bathrooms   sqft_living  \\\n",
       "count  1.760700e+04  1.760700e+04  17607.000000  17607.000000  17607.000000   \n",
       "mean   4.584720e+09  5.421997e+05      3.378997      2.122835   2086.896518   \n",
       "std    2.876432e+09  3.696179e+05      0.931724      0.767305    918.146177   \n",
       "min    1.000102e+06  8.000000e+04      1.000000      0.500000    370.000000   \n",
       "25%    2.125405e+09  3.249250e+05      3.000000      1.750000   1430.000000   \n",
       "50%    3.904980e+09  4.510000e+05      3.000000      2.250000   1920.000000   \n",
       "75%    7.316150e+09  6.457500e+05      4.000000      2.500000   2550.000000   \n",
       "max    9.895000e+09  7.700000e+06     33.000000      8.000000  13540.000000   \n",
       "\n",
       "             floors    waterfront    sqft_above      yr_built  \\\n",
       "count  17607.000000  17607.000000  17607.000000  17607.000000   \n",
       "mean       1.497757      0.006872   1794.152383   1971.199920   \n",
       "std        0.538776      0.082616    827.487426     29.364209   \n",
       "min        1.000000      0.000000    370.000000   1900.000000   \n",
       "25%        1.000000      0.000000   1200.000000   1952.000000   \n",
       "50%        1.500000      0.000000   1570.000000   1975.000000   \n",
       "75%        2.000000      0.000000   2220.000000   1997.000000   \n",
       "max        3.500000      1.000000   9410.000000   2015.000000   \n",
       "\n",
       "       renovation_status  Has_basement      Has_view  \n",
       "count       17607.000000  17607.000000  17607.000000  \n",
       "mean            0.042029      0.385301      0.097972  \n",
       "std             0.200660      0.486680      0.297286  \n",
       "min             0.000000      0.000000      0.000000  \n",
       "25%             0.000000      0.000000      0.000000  \n",
       "50%             0.000000      0.000000      0.000000  \n",
       "75%             0.000000      1.000000      0.000000  \n",
       "max             1.000000      1.000000      1.000000  "
      ]
     },
     "execution_count": 22,
     "metadata": {},
     "output_type": "execute_result"
    }
   ],
   "source": [
    "data.describe()"
   ]
  },
  {
   "cell_type": "markdown",
   "metadata": {},
   "source": [
    "when we look at the information above we realise that theres a house that has 33 bedrooms, but before we decide on what to do with it, lets first take a look houses that have more than 10 bedrooms to get an insight of their similaritits or difference"
   ]
  },
  {
   "cell_type": "code",
   "execution_count": 23,
   "metadata": {},
   "outputs": [
    {
     "data": {
      "text/html": [
       "<div>\n",
       "<style scoped>\n",
       "    .dataframe tbody tr th:only-of-type {\n",
       "        vertical-align: middle;\n",
       "    }\n",
       "\n",
       "    .dataframe tbody tr th {\n",
       "        vertical-align: top;\n",
       "    }\n",
       "\n",
       "    .dataframe thead th {\n",
       "        text-align: right;\n",
       "    }\n",
       "</style>\n",
       "<table border=\"1\" class=\"dataframe\">\n",
       "  <thead>\n",
       "    <tr style=\"text-align: right;\">\n",
       "      <th></th>\n",
       "      <th>id</th>\n",
       "      <th>price</th>\n",
       "      <th>bedrooms</th>\n",
       "      <th>bathrooms</th>\n",
       "      <th>sqft_living</th>\n",
       "      <th>floors</th>\n",
       "      <th>waterfront</th>\n",
       "      <th>sqft_above</th>\n",
       "      <th>yr_built</th>\n",
       "      <th>renovation_status</th>\n",
       "      <th>Has_basement</th>\n",
       "      <th>Has_view</th>\n",
       "    </tr>\n",
       "  </thead>\n",
       "  <tbody>\n",
       "    <tr>\n",
       "      <th>count</th>\n",
       "      <td>5.000000e+00</td>\n",
       "      <td>5.000000e+00</td>\n",
       "      <td>5.00000</td>\n",
       "      <td>5.00000</td>\n",
       "      <td>5.000000</td>\n",
       "      <td>5.000000</td>\n",
       "      <td>5.0</td>\n",
       "      <td>5.00000</td>\n",
       "      <td>5.000000</td>\n",
       "      <td>5.000000</td>\n",
       "      <td>5.0</td>\n",
       "      <td>5.000000</td>\n",
       "    </tr>\n",
       "    <tr>\n",
       "      <th>mean</th>\n",
       "      <td>3.836201e+09</td>\n",
       "      <td>7.240000e+05</td>\n",
       "      <td>14.80000</td>\n",
       "      <td>3.00000</td>\n",
       "      <td>3148.000000</td>\n",
       "      <td>1.600000</td>\n",
       "      <td>0.0</td>\n",
       "      <td>2162.00000</td>\n",
       "      <td>1948.800000</td>\n",
       "      <td>0.200000</td>\n",
       "      <td>1.0</td>\n",
       "      <td>0.200000</td>\n",
       "    </tr>\n",
       "    <tr>\n",
       "      <th>std</th>\n",
       "      <td>3.330360e+09</td>\n",
       "      <td>2.448060e+05</td>\n",
       "      <td>10.18332</td>\n",
       "      <td>1.38067</td>\n",
       "      <td>1084.144824</td>\n",
       "      <td>0.547723</td>\n",
       "      <td>0.0</td>\n",
       "      <td>748.34484</td>\n",
       "      <td>38.153637</td>\n",
       "      <td>0.447214</td>\n",
       "      <td>0.0</td>\n",
       "      <td>0.447214</td>\n",
       "    </tr>\n",
       "    <tr>\n",
       "      <th>min</th>\n",
       "      <td>6.273001e+08</td>\n",
       "      <td>5.200000e+05</td>\n",
       "      <td>10.00000</td>\n",
       "      <td>1.75000</td>\n",
       "      <td>1620.000000</td>\n",
       "      <td>1.000000</td>\n",
       "      <td>0.0</td>\n",
       "      <td>1040.00000</td>\n",
       "      <td>1913.000000</td>\n",
       "      <td>0.000000</td>\n",
       "      <td>1.0</td>\n",
       "      <td>0.000000</td>\n",
       "    </tr>\n",
       "    <tr>\n",
       "      <th>25%</th>\n",
       "      <td>1.773101e+09</td>\n",
       "      <td>6.400000e+05</td>\n",
       "      <td>10.00000</td>\n",
       "      <td>2.00000</td>\n",
       "      <td>2920.000000</td>\n",
       "      <td>1.000000</td>\n",
       "      <td>0.0</td>\n",
       "      <td>1860.00000</td>\n",
       "      <td>1918.000000</td>\n",
       "      <td>0.000000</td>\n",
       "      <td>1.0</td>\n",
       "      <td>0.000000</td>\n",
       "    </tr>\n",
       "    <tr>\n",
       "      <th>50%</th>\n",
       "      <td>2.402101e+09</td>\n",
       "      <td>6.500000e+05</td>\n",
       "      <td>10.00000</td>\n",
       "      <td>3.00000</td>\n",
       "      <td>3000.000000</td>\n",
       "      <td>2.000000</td>\n",
       "      <td>0.0</td>\n",
       "      <td>2400.00000</td>\n",
       "      <td>1947.000000</td>\n",
       "      <td>0.000000</td>\n",
       "      <td>1.0</td>\n",
       "      <td>0.000000</td>\n",
       "    </tr>\n",
       "    <tr>\n",
       "      <th>75%</th>\n",
       "      <td>5.566100e+09</td>\n",
       "      <td>6.600000e+05</td>\n",
       "      <td>11.00000</td>\n",
       "      <td>3.00000</td>\n",
       "      <td>3610.000000</td>\n",
       "      <td>2.000000</td>\n",
       "      <td>0.0</td>\n",
       "      <td>2500.00000</td>\n",
       "      <td>1958.000000</td>\n",
       "      <td>0.000000</td>\n",
       "      <td>1.0</td>\n",
       "      <td>0.000000</td>\n",
       "    </tr>\n",
       "    <tr>\n",
       "      <th>max</th>\n",
       "      <td>8.812401e+09</td>\n",
       "      <td>1.150000e+06</td>\n",
       "      <td>33.00000</td>\n",
       "      <td>5.25000</td>\n",
       "      <td>4590.000000</td>\n",
       "      <td>2.000000</td>\n",
       "      <td>0.0</td>\n",
       "      <td>3010.00000</td>\n",
       "      <td>2008.000000</td>\n",
       "      <td>1.000000</td>\n",
       "      <td>1.0</td>\n",
       "      <td>1.000000</td>\n",
       "    </tr>\n",
       "  </tbody>\n",
       "</table>\n",
       "</div>"
      ],
      "text/plain": [
       "                 id         price  bedrooms  bathrooms  sqft_living    floors  \\\n",
       "count  5.000000e+00  5.000000e+00   5.00000    5.00000     5.000000  5.000000   \n",
       "mean   3.836201e+09  7.240000e+05  14.80000    3.00000  3148.000000  1.600000   \n",
       "std    3.330360e+09  2.448060e+05  10.18332    1.38067  1084.144824  0.547723   \n",
       "min    6.273001e+08  5.200000e+05  10.00000    1.75000  1620.000000  1.000000   \n",
       "25%    1.773101e+09  6.400000e+05  10.00000    2.00000  2920.000000  1.000000   \n",
       "50%    2.402101e+09  6.500000e+05  10.00000    3.00000  3000.000000  2.000000   \n",
       "75%    5.566100e+09  6.600000e+05  11.00000    3.00000  3610.000000  2.000000   \n",
       "max    8.812401e+09  1.150000e+06  33.00000    5.25000  4590.000000  2.000000   \n",
       "\n",
       "       waterfront  sqft_above     yr_built  renovation_status  Has_basement  \\\n",
       "count         5.0     5.00000     5.000000           5.000000           5.0   \n",
       "mean          0.0  2162.00000  1948.800000           0.200000           1.0   \n",
       "std           0.0   748.34484    38.153637           0.447214           0.0   \n",
       "min           0.0  1040.00000  1913.000000           0.000000           1.0   \n",
       "25%           0.0  1860.00000  1918.000000           0.000000           1.0   \n",
       "50%           0.0  2400.00000  1947.000000           0.000000           1.0   \n",
       "75%           0.0  2500.00000  1958.000000           0.000000           1.0   \n",
       "max           0.0  3010.00000  2008.000000           1.000000           1.0   \n",
       "\n",
       "       Has_view  \n",
       "count  5.000000  \n",
       "mean   0.200000  \n",
       "std    0.447214  \n",
       "min    0.000000  \n",
       "25%    0.000000  \n",
       "50%    0.000000  \n",
       "75%    0.000000  \n",
       "max    1.000000  "
      ]
     },
     "execution_count": 23,
     "metadata": {},
     "output_type": "execute_result"
    }
   ],
   "source": [
    "data[data[\"bedrooms\"]>=10].describe()"
   ]
  },
  {
   "cell_type": "code",
   "execution_count": 24,
   "metadata": {},
   "outputs": [
    {
     "data": {
      "text/html": [
       "<div>\n",
       "<style scoped>\n",
       "    .dataframe tbody tr th:only-of-type {\n",
       "        vertical-align: middle;\n",
       "    }\n",
       "\n",
       "    .dataframe tbody tr th {\n",
       "        vertical-align: top;\n",
       "    }\n",
       "\n",
       "    .dataframe thead th {\n",
       "        text-align: right;\n",
       "    }\n",
       "</style>\n",
       "<table border=\"1\" class=\"dataframe\">\n",
       "  <thead>\n",
       "    <tr style=\"text-align: right;\">\n",
       "      <th></th>\n",
       "      <th>id</th>\n",
       "      <th>price</th>\n",
       "      <th>bedrooms</th>\n",
       "      <th>bathrooms</th>\n",
       "      <th>sqft_living</th>\n",
       "      <th>floors</th>\n",
       "      <th>waterfront</th>\n",
       "      <th>condition</th>\n",
       "      <th>grade</th>\n",
       "      <th>sqft_above</th>\n",
       "      <th>yr_built</th>\n",
       "      <th>renovation_status</th>\n",
       "      <th>Has_basement</th>\n",
       "      <th>Has_view</th>\n",
       "    </tr>\n",
       "  </thead>\n",
       "  <tbody>\n",
       "    <tr>\n",
       "      <th>8748</th>\n",
       "      <td>1773100755</td>\n",
       "      <td>520000.0</td>\n",
       "      <td>11</td>\n",
       "      <td>3.00</td>\n",
       "      <td>3000</td>\n",
       "      <td>2.0</td>\n",
       "      <td>0.0</td>\n",
       "      <td>Average</td>\n",
       "      <td>7 Average</td>\n",
       "      <td>2400</td>\n",
       "      <td>1918</td>\n",
       "      <td>1</td>\n",
       "      <td>1</td>\n",
       "      <td>0</td>\n",
       "    </tr>\n",
       "    <tr>\n",
       "      <th>13301</th>\n",
       "      <td>627300145</td>\n",
       "      <td>1150000.0</td>\n",
       "      <td>10</td>\n",
       "      <td>5.25</td>\n",
       "      <td>4590</td>\n",
       "      <td>1.0</td>\n",
       "      <td>0.0</td>\n",
       "      <td>Average</td>\n",
       "      <td>9 Better</td>\n",
       "      <td>2500</td>\n",
       "      <td>2008</td>\n",
       "      <td>0</td>\n",
       "      <td>1</td>\n",
       "      <td>1</td>\n",
       "    </tr>\n",
       "    <tr>\n",
       "      <th>15147</th>\n",
       "      <td>5566100170</td>\n",
       "      <td>650000.0</td>\n",
       "      <td>10</td>\n",
       "      <td>2.00</td>\n",
       "      <td>3610</td>\n",
       "      <td>2.0</td>\n",
       "      <td>0.0</td>\n",
       "      <td>Good</td>\n",
       "      <td>7 Average</td>\n",
       "      <td>3010</td>\n",
       "      <td>1958</td>\n",
       "      <td>0</td>\n",
       "      <td>1</td>\n",
       "      <td>0</td>\n",
       "    </tr>\n",
       "    <tr>\n",
       "      <th>15856</th>\n",
       "      <td>2402100895</td>\n",
       "      <td>640000.0</td>\n",
       "      <td>33</td>\n",
       "      <td>1.75</td>\n",
       "      <td>1620</td>\n",
       "      <td>1.0</td>\n",
       "      <td>0.0</td>\n",
       "      <td>Very Good</td>\n",
       "      <td>7 Average</td>\n",
       "      <td>1040</td>\n",
       "      <td>1947</td>\n",
       "      <td>0</td>\n",
       "      <td>1</td>\n",
       "      <td>0</td>\n",
       "    </tr>\n",
       "    <tr>\n",
       "      <th>19239</th>\n",
       "      <td>8812401450</td>\n",
       "      <td>660000.0</td>\n",
       "      <td>10</td>\n",
       "      <td>3.00</td>\n",
       "      <td>2920</td>\n",
       "      <td>2.0</td>\n",
       "      <td>0.0</td>\n",
       "      <td>Good</td>\n",
       "      <td>7 Average</td>\n",
       "      <td>1860</td>\n",
       "      <td>1913</td>\n",
       "      <td>0</td>\n",
       "      <td>1</td>\n",
       "      <td>0</td>\n",
       "    </tr>\n",
       "  </tbody>\n",
       "</table>\n",
       "</div>"
      ],
      "text/plain": [
       "               id      price  bedrooms  bathrooms  sqft_living  floors  \\\n",
       "8748   1773100755   520000.0        11       3.00         3000     2.0   \n",
       "13301   627300145  1150000.0        10       5.25         4590     1.0   \n",
       "15147  5566100170   650000.0        10       2.00         3610     2.0   \n",
       "15856  2402100895   640000.0        33       1.75         1620     1.0   \n",
       "19239  8812401450   660000.0        10       3.00         2920     2.0   \n",
       "\n",
       "       waterfront  condition      grade  sqft_above  yr_built  \\\n",
       "8748          0.0    Average  7 Average        2400      1918   \n",
       "13301         0.0    Average   9 Better        2500      2008   \n",
       "15147         0.0       Good  7 Average        3010      1958   \n",
       "15856         0.0  Very Good  7 Average        1040      1947   \n",
       "19239         0.0       Good  7 Average        1860      1913   \n",
       "\n",
       "       renovation_status  Has_basement  Has_view  \n",
       "8748                   1             1         0  \n",
       "13301                  0             1         1  \n",
       "15147                  0             1         0  \n",
       "15856                  0             1         0  \n",
       "19239                  0             1         0  "
      ]
     },
     "execution_count": 24,
     "metadata": {},
     "output_type": "execute_result"
    }
   ],
   "source": [
    "data[data[\"bedrooms\"]>=10]"
   ]
  },
  {
   "cell_type": "markdown",
   "metadata": {},
   "source": [
    "There seems to be an anomaly.One house seems to have 33 bedrooms. Although such houses do exist, the price of this house is less than a million,and it has 1.75 bathrooms and is on 1 floor.This suggests that the house has 3 bedrooms and the 33 is a data entry error.So it is safer to remove that entry from analysis.When we look at the range of values presented wihin the 33 bedroomed house, i feel no need to delete it since it falls within the range of the houses with more than 10 bedrooms."
   ]
  },
  {
   "cell_type": "code",
   "execution_count": 25,
   "metadata": {},
   "outputs": [
    {
     "data": {
      "text/html": [
       "<div>\n",
       "<style scoped>\n",
       "    .dataframe tbody tr th:only-of-type {\n",
       "        vertical-align: middle;\n",
       "    }\n",
       "\n",
       "    .dataframe tbody tr th {\n",
       "        vertical-align: top;\n",
       "    }\n",
       "\n",
       "    .dataframe thead th {\n",
       "        text-align: right;\n",
       "    }\n",
       "</style>\n",
       "<table border=\"1\" class=\"dataframe\">\n",
       "  <thead>\n",
       "    <tr style=\"text-align: right;\">\n",
       "      <th></th>\n",
       "      <th>id</th>\n",
       "      <th>price</th>\n",
       "      <th>bedrooms</th>\n",
       "      <th>bathrooms</th>\n",
       "      <th>sqft_living</th>\n",
       "      <th>floors</th>\n",
       "      <th>waterfront</th>\n",
       "      <th>condition</th>\n",
       "      <th>grade</th>\n",
       "      <th>sqft_above</th>\n",
       "      <th>yr_built</th>\n",
       "      <th>renovation_status</th>\n",
       "      <th>Has_basement</th>\n",
       "      <th>Has_view</th>\n",
       "    </tr>\n",
       "  </thead>\n",
       "  <tbody>\n",
       "    <tr>\n",
       "      <th>0</th>\n",
       "      <td>7129300520</td>\n",
       "      <td>221900.0</td>\n",
       "      <td>3</td>\n",
       "      <td>1.00</td>\n",
       "      <td>1180</td>\n",
       "      <td>1.0</td>\n",
       "      <td>0.0</td>\n",
       "      <td>Average</td>\n",
       "      <td>7 Average</td>\n",
       "      <td>1180</td>\n",
       "      <td>1955</td>\n",
       "      <td>0</td>\n",
       "      <td>0</td>\n",
       "      <td>0</td>\n",
       "    </tr>\n",
       "    <tr>\n",
       "      <th>1</th>\n",
       "      <td>6414100192</td>\n",
       "      <td>538000.0</td>\n",
       "      <td>3</td>\n",
       "      <td>2.25</td>\n",
       "      <td>2570</td>\n",
       "      <td>2.0</td>\n",
       "      <td>0.0</td>\n",
       "      <td>Average</td>\n",
       "      <td>7 Average</td>\n",
       "      <td>2170</td>\n",
       "      <td>1951</td>\n",
       "      <td>1</td>\n",
       "      <td>1</td>\n",
       "      <td>0</td>\n",
       "    </tr>\n",
       "    <tr>\n",
       "      <th>3</th>\n",
       "      <td>2487200875</td>\n",
       "      <td>604000.0</td>\n",
       "      <td>4</td>\n",
       "      <td>3.00</td>\n",
       "      <td>1960</td>\n",
       "      <td>1.0</td>\n",
       "      <td>0.0</td>\n",
       "      <td>Very Good</td>\n",
       "      <td>7 Average</td>\n",
       "      <td>1050</td>\n",
       "      <td>1965</td>\n",
       "      <td>0</td>\n",
       "      <td>1</td>\n",
       "      <td>0</td>\n",
       "    </tr>\n",
       "    <tr>\n",
       "      <th>4</th>\n",
       "      <td>1954400510</td>\n",
       "      <td>510000.0</td>\n",
       "      <td>3</td>\n",
       "      <td>2.00</td>\n",
       "      <td>1680</td>\n",
       "      <td>1.0</td>\n",
       "      <td>0.0</td>\n",
       "      <td>Average</td>\n",
       "      <td>8 Good</td>\n",
       "      <td>1680</td>\n",
       "      <td>1987</td>\n",
       "      <td>0</td>\n",
       "      <td>0</td>\n",
       "      <td>0</td>\n",
       "    </tr>\n",
       "    <tr>\n",
       "      <th>5</th>\n",
       "      <td>7237550310</td>\n",
       "      <td>1230000.0</td>\n",
       "      <td>4</td>\n",
       "      <td>4.50</td>\n",
       "      <td>5420</td>\n",
       "      <td>1.0</td>\n",
       "      <td>0.0</td>\n",
       "      <td>Average</td>\n",
       "      <td>11 Excellent</td>\n",
       "      <td>3890</td>\n",
       "      <td>2001</td>\n",
       "      <td>0</td>\n",
       "      <td>1</td>\n",
       "      <td>0</td>\n",
       "    </tr>\n",
       "    <tr>\n",
       "      <th>...</th>\n",
       "      <td>...</td>\n",
       "      <td>...</td>\n",
       "      <td>...</td>\n",
       "      <td>...</td>\n",
       "      <td>...</td>\n",
       "      <td>...</td>\n",
       "      <td>...</td>\n",
       "      <td>...</td>\n",
       "      <td>...</td>\n",
       "      <td>...</td>\n",
       "      <td>...</td>\n",
       "      <td>...</td>\n",
       "      <td>...</td>\n",
       "      <td>...</td>\n",
       "    </tr>\n",
       "    <tr>\n",
       "      <th>21592</th>\n",
       "      <td>263000018</td>\n",
       "      <td>360000.0</td>\n",
       "      <td>3</td>\n",
       "      <td>2.50</td>\n",
       "      <td>1530</td>\n",
       "      <td>3.0</td>\n",
       "      <td>0.0</td>\n",
       "      <td>Average</td>\n",
       "      <td>8 Good</td>\n",
       "      <td>1530</td>\n",
       "      <td>2009</td>\n",
       "      <td>0</td>\n",
       "      <td>0</td>\n",
       "      <td>0</td>\n",
       "    </tr>\n",
       "    <tr>\n",
       "      <th>21593</th>\n",
       "      <td>6600060120</td>\n",
       "      <td>400000.0</td>\n",
       "      <td>4</td>\n",
       "      <td>2.50</td>\n",
       "      <td>2310</td>\n",
       "      <td>2.0</td>\n",
       "      <td>0.0</td>\n",
       "      <td>Average</td>\n",
       "      <td>8 Good</td>\n",
       "      <td>2310</td>\n",
       "      <td>2014</td>\n",
       "      <td>0</td>\n",
       "      <td>0</td>\n",
       "      <td>0</td>\n",
       "    </tr>\n",
       "    <tr>\n",
       "      <th>21594</th>\n",
       "      <td>1523300141</td>\n",
       "      <td>402101.0</td>\n",
       "      <td>2</td>\n",
       "      <td>0.75</td>\n",
       "      <td>1020</td>\n",
       "      <td>2.0</td>\n",
       "      <td>0.0</td>\n",
       "      <td>Average</td>\n",
       "      <td>7 Average</td>\n",
       "      <td>1020</td>\n",
       "      <td>2009</td>\n",
       "      <td>0</td>\n",
       "      <td>0</td>\n",
       "      <td>0</td>\n",
       "    </tr>\n",
       "    <tr>\n",
       "      <th>21595</th>\n",
       "      <td>291310100</td>\n",
       "      <td>400000.0</td>\n",
       "      <td>3</td>\n",
       "      <td>2.50</td>\n",
       "      <td>1600</td>\n",
       "      <td>2.0</td>\n",
       "      <td>0.0</td>\n",
       "      <td>Average</td>\n",
       "      <td>8 Good</td>\n",
       "      <td>1600</td>\n",
       "      <td>2004</td>\n",
       "      <td>0</td>\n",
       "      <td>0</td>\n",
       "      <td>0</td>\n",
       "    </tr>\n",
       "    <tr>\n",
       "      <th>21596</th>\n",
       "      <td>1523300157</td>\n",
       "      <td>325000.0</td>\n",
       "      <td>2</td>\n",
       "      <td>0.75</td>\n",
       "      <td>1020</td>\n",
       "      <td>2.0</td>\n",
       "      <td>0.0</td>\n",
       "      <td>Average</td>\n",
       "      <td>7 Average</td>\n",
       "      <td>1020</td>\n",
       "      <td>2008</td>\n",
       "      <td>0</td>\n",
       "      <td>0</td>\n",
       "      <td>0</td>\n",
       "    </tr>\n",
       "  </tbody>\n",
       "</table>\n",
       "<p>17606 rows × 14 columns</p>\n",
       "</div>"
      ],
      "text/plain": [
       "               id      price  bedrooms  bathrooms  sqft_living  floors  \\\n",
       "0      7129300520   221900.0         3       1.00         1180     1.0   \n",
       "1      6414100192   538000.0         3       2.25         2570     2.0   \n",
       "3      2487200875   604000.0         4       3.00         1960     1.0   \n",
       "4      1954400510   510000.0         3       2.00         1680     1.0   \n",
       "5      7237550310  1230000.0         4       4.50         5420     1.0   \n",
       "...           ...        ...       ...        ...          ...     ...   \n",
       "21592   263000018   360000.0         3       2.50         1530     3.0   \n",
       "21593  6600060120   400000.0         4       2.50         2310     2.0   \n",
       "21594  1523300141   402101.0         2       0.75         1020     2.0   \n",
       "21595   291310100   400000.0         3       2.50         1600     2.0   \n",
       "21596  1523300157   325000.0         2       0.75         1020     2.0   \n",
       "\n",
       "       waterfront  condition         grade  sqft_above  yr_built  \\\n",
       "0             0.0    Average     7 Average        1180      1955   \n",
       "1             0.0    Average     7 Average        2170      1951   \n",
       "3             0.0  Very Good     7 Average        1050      1965   \n",
       "4             0.0    Average        8 Good        1680      1987   \n",
       "5             0.0    Average  11 Excellent        3890      2001   \n",
       "...           ...        ...           ...         ...       ...   \n",
       "21592         0.0    Average        8 Good        1530      2009   \n",
       "21593         0.0    Average        8 Good        2310      2014   \n",
       "21594         0.0    Average     7 Average        1020      2009   \n",
       "21595         0.0    Average        8 Good        1600      2004   \n",
       "21596         0.0    Average     7 Average        1020      2008   \n",
       "\n",
       "       renovation_status  Has_basement  Has_view  \n",
       "0                      0             0         0  \n",
       "1                      1             1         0  \n",
       "3                      0             1         0  \n",
       "4                      0             0         0  \n",
       "5                      0             1         0  \n",
       "...                  ...           ...       ...  \n",
       "21592                  0             0         0  \n",
       "21593                  0             0         0  \n",
       "21594                  0             0         0  \n",
       "21595                  0             0         0  \n",
       "21596                  0             0         0  \n",
       "\n",
       "[17606 rows x 14 columns]"
      ]
     },
     "execution_count": 25,
     "metadata": {},
     "output_type": "execute_result"
    }
   ],
   "source": [
    "data.drop(data.index[15856])"
   ]
  },
  {
   "cell_type": "markdown",
   "metadata": {},
   "source": [
    "## Visualizations"
   ]
  },
  {
   "cell_type": "markdown",
   "metadata": {},
   "source": [
    "### ordinal features visualizations ('Bathrooms','Floors','View','Condition','grade')"
   ]
  },
  {
   "cell_type": "code",
   "execution_count": 26,
   "metadata": {},
   "outputs": [
    {
     "data": {
      "text/plain": [
       "[Text(0.5, 1.0, 'house sales based on bedrooms')]"
      ]
     },
     "execution_count": 26,
     "metadata": {},
     "output_type": "execute_result"
    },
    {
     "data": {
      "image/png": "[encoded data removed]",
      "text/plain": [
       "<Figure size 432x288 with 1 Axes>"
      ]
     },
     "metadata": {
      "needs_background": "light"
     },
     "output_type": "display_data"
    }
   ],
   "source": [
    "#home sales based on the number of bedrooms\n",
    "sns.countplot(data.bedrooms,order=data['bedrooms'].value_counts().index).set(title = \"house sales based on bedrooms\")"
   ]
  },
  {
   "cell_type": "code",
   "execution_count": 27,
   "metadata": {},
   "outputs": [
    {
     "data": {
      "text/plain": [
       "[Text(0.5, 1.0, 'house sales based on condition')]"
      ]
     },
     "execution_count": 27,
     "metadata": {},
     "output_type": "execute_result"
    },
    {
     "data": {
      "image/png": "[encoded data removed]",
      "text/plain": [
       "<Figure size 432x288 with 1 Axes>"
      ]
     },
     "metadata": {
      "needs_background": "light"
     },
     "output_type": "display_data"
    }
   ],
   "source": [
    "sns.countplot(data.condition,order=data['condition'].value_counts().index).set(title = \"house sales based on condition\")"
   ]
  },
  {
   "cell_type": "code",
   "execution_count": 28,
   "metadata": {},
   "outputs": [
    {
     "data": {
      "text/plain": [
       "[Text(0.5, 1.0, 'house sales based on bathrooms')]"
      ]
     },
     "execution_count": 28,
     "metadata": {},
     "output_type": "execute_result"
    },
    {
     "data": {
      "image/png": "[encoded data removed]",
      "text/plain": [
       "<Figure size 432x288 with 1 Axes>"
      ]
     },
     "metadata": {
      "needs_background": "light"
     },
     "output_type": "display_data"
    }
   ],
   "source": [
    "sns.countplot(data.bathrooms,order=data['bathrooms'].value_counts().index).set(title = \"house sales based on bathrooms\")"
   ]
  },
  {
   "cell_type": "code",
   "execution_count": 29,
   "metadata": {},
   "outputs": [
    {
     "data": {
      "text/plain": [
       "[Text(0.5, 1.0, 'house sales based on view')]"
      ]
     },
     "execution_count": 29,
     "metadata": {},
     "output_type": "execute_result"
    },
    {
     "data": {
      "image/png": "[encoded data removed]",
      "text/plain": [
       "<Figure size 432x288 with 1 Axes>"
      ]
     },
     "metadata": {
      "needs_background": "light"
     },
     "output_type": "display_data"
    }
   ],
   "source": [
    "sns.countplot(data.Has_view,order=data['Has_view'].value_counts().index).set(title = \"house sales based on view\")"
   ]
  },
  {
   "cell_type": "code",
   "execution_count": 30,
   "metadata": {},
   "outputs": [
    {
     "data": {
      "text/plain": [
       "[Text(0.5, 1.0, 'house sales based on number of floors')]"
      ]
     },
     "execution_count": 30,
     "metadata": {},
     "output_type": "execute_result"
    },
    {
     "data": {
      "image/png": "[encoded data removed]",
      "text/plain": [
       "<Figure size 432x288 with 1 Axes>"
      ]
     },
     "metadata": {
      "needs_background": "light"
     },
     "output_type": "display_data"
    }
   ],
   "source": [
    "sns.countplot(data.floors,order=data['floors'].value_counts().index).set(title = \"house sales based on number of floors\")"
   ]
  },
  {
   "cell_type": "code",
   "execution_count": 31,
   "metadata": {},
   "outputs": [
    {
     "data": {
      "text/plain": [
       "[Text(0.5, 1.0, 'house sales based on grade')]"
      ]
     },
     "execution_count": 31,
     "metadata": {},
     "output_type": "execute_result"
    },
    {
     "data": {
      "image/png": "[encoded data removed]",
      "text/plain": [
       "<Figure size 432x288 with 1 Axes>"
      ]
     },
     "metadata": {
      "needs_background": "light"
     },
     "output_type": "display_data"
    }
   ],
   "source": [
    "sns.countplot(data.grade,order=data['grade'].value_counts().index).set(title = \"house sales based on grade\")"
   ]
  },
  {
   "cell_type": "markdown",
   "metadata": {},
   "source": [
    "### continuous variable visualizations"
   ]
  },
  {
   "cell_type": "code",
   "execution_count": 32,
   "metadata": {},
   "outputs": [
    {
     "data": {
      "image/png": "[encoded data removed]",
      "text/plain": [
       "<Figure size 1008x1296 with 3 Axes>"
      ]
     },
     "metadata": {
      "needs_background": "light"
     },
     "output_type": "display_data"
    }
   ],
   "source": [
    "fig, axes = plt.subplots(nrows=3, ncols=1, figsize=(14,18))\n",
    "\n",
    "for var, ax in zip(['sqft_living', 'sqft_above', 'Has_basement'], axes):\n",
    "    data.plot(kind = 'scatter', x = var, y = 'price', ax = ax, alpha=0.2)\n",
    "    \n",
    "    ax.set_title(var)               \n",
    "    \n",
    "fig.tight_layout()\n"
   ]
  },
  {
   "cell_type": "code",
   "execution_count": 33,
   "metadata": {},
   "outputs": [],
   "source": [
    "# fig,axes=plt.subplots(nrows=1,ncols=1,figsize=(15,10))\n",
    "# plt.title(\"house prices by sqft_above\")\n",
    "# plt.xlabel('sqft_above')\n",
    "# plt.ylabel('house prices')\n",
    "# sns.barplot(y='sqft_above',x='price',data=data)"
   ]
  },
  {
   "cell_type": "markdown",
   "metadata": {},
   "source": [
    "## visualization of the categorical variables"
   ]
  },
  {
   "cell_type": "code",
   "execution_count": 34,
   "metadata": {},
   "outputs": [],
   "source": [
    "# fig, axes = plt.subplots(nrows=4, ncols=3, figsize=(16,15), sharey=True)\n",
    "# column = ['waterfront', 'Has_view', 'condition', 'grade', 'renovation_status']\n",
    "# for ax, column in zip(axes.flatten(), data.columns):\n",
    "#     ax.bar(data[column], data['price'] , label=column)\n",
    "#     ax.set_title(f'Sale Price vs {column}')\n",
    "#     ax.set_xlabel(column)\n",
    "#     ax.set_ylabel('price')\n",
    "\n",
    "# fig.tight_layout()"
   ]
  },
  {
   "cell_type": "markdown",
   "metadata": {},
   "source": [
    "## visualizing outliers for different data columns"
   ]
  },
  {
   "cell_type": "code",
   "execution_count": 35,
   "metadata": {},
   "outputs": [
    {
     "data": {
      "image/png": "[encoded data removed]",
      "text/plain": [
       "<Figure size 864x2880 with 5 Axes>"
      ]
     },
     "metadata": {
      "needs_background": "light"
     },
     "output_type": "display_data"
    }
   ],
   "source": [
    "fig, axarr = plt.subplots(5, figsize=(12,40))\n",
    "sns.boxplot(y = 'bedrooms', x = 'price', data = data,width = 0.8,orient = 'h', showmeans = True, fliersize = 3, ax = axarr[0])\n",
    "sns.boxplot(y = 'floors', x = 'price', data = data,width = 0.8,orient = 'h', showmeans = True, fliersize = 3, ax = axarr[1])\n",
    "sns.boxplot(y = 'Has_view', x = 'price', data = data,width = 0.8,orient = 'h', showmeans = True, fliersize = 3, ax = axarr[2])\n",
    "sns.boxplot(y = 'condition', x = 'price', data = data,width = 0.8,orient = 'h', showmeans = True, fliersize = 3, ax = axarr[3])\n",
    "sns.boxplot(y = 'grade', x = 'price', data = data,width = 0.8,orient = 'h', showmeans = True, fliersize = 3, ax = axarr[4])\n",
    "plt.show()"
   ]
  },
  {
   "cell_type": "code",
   "execution_count": 36,
   "metadata": {},
   "outputs": [
    {
     "data": {
      "text/plain": [
       "<AxesSubplot:xlabel='price'>"
      ]
     },
     "execution_count": 36,
     "metadata": {},
     "output_type": "execute_result"
    },
    {
     "data": {
      "image/png": "[encoded data removed]",
      "text/plain": [
       "<Figure size 432x288 with 1 Axes>"
      ]
     },
     "metadata": {
      "needs_background": "light"
     },
     "output_type": "display_data"
    }
   ],
   "source": [
    "#price oultiers\n",
    "sns.boxplot(x= data['price'])"
   ]
  },
  {
   "cell_type": "code",
   "execution_count": 37,
   "metadata": {},
   "outputs": [
    {
     "data": {
      "text/plain": [
       "<AxesSubplot:xlabel='sqft_living'>"
      ]
     },
     "execution_count": 37,
     "metadata": {},
     "output_type": "execute_result"
    },
    {
     "data": {
      "image/png": "[encoded data removed]",
      "text/plain": [
       "<Figure size 432x288 with 1 Axes>"
      ]
     },
     "metadata": {
      "needs_background": "light"
     },
     "output_type": "display_data"
    }
   ],
   "source": [
    "sns.boxplot(x= data['sqft_living'])"
   ]
  },
  {
   "cell_type": "code",
   "execution_count": 38,
   "metadata": {},
   "outputs": [
    {
     "data": {
      "text/plain": [
       "<AxesSubplot:xlabel='bedrooms'>"
      ]
     },
     "execution_count": 38,
     "metadata": {},
     "output_type": "execute_result"
    },
    {
     "data": {
      "image/png": "[encoded data removed]",
      "text/plain": [
       "<Figure size 432x288 with 1 Axes>"
      ]
     },
     "metadata": {
      "needs_background": "light"
     },
     "output_type": "display_data"
    }
   ],
   "source": [
    "sns.boxplot(x= data['bedrooms'])"
   ]
  },
  {
   "cell_type": "code",
   "execution_count": 39,
   "metadata": {},
   "outputs": [
    {
     "data": {
      "text/plain": [
       "<AxesSubplot:xlabel='sqft_above'>"
      ]
     },
     "execution_count": 39,
     "metadata": {},
     "output_type": "execute_result"
    },
    {
     "data": {
      "image/png": "[encoded data removed]",
      "text/plain": [
       "<Figure size 432x288 with 1 Axes>"
      ]
     },
     "metadata": {
      "needs_background": "light"
     },
     "output_type": "display_data"
    }
   ],
   "source": [
    "sns.boxplot(x= data['sqft_above'])"
   ]
  },
  {
   "cell_type": "markdown",
   "metadata": {},
   "source": [
    "lets remove some price price outliers"
   ]
  },
  {
   "cell_type": "code",
   "execution_count": 40,
   "metadata": {},
   "outputs": [
    {
     "data": {
      "text/plain": [
       "<AxesSubplot:xlabel='price'>"
      ]
     },
     "execution_count": 40,
     "metadata": {},
     "output_type": "execute_result"
    },
    {
     "data": {
      "image/png": "[encoded data removed]",
      "text/plain": [
       "<Figure size 432x288 with 1 Axes>"
      ]
     },
     "metadata": {
      "needs_background": "light"
     },
     "output_type": "display_data"
    }
   ],
   "source": [
    "data = data.query('price < price.quantile(.95)')\n",
    "sns.boxplot(x= data['price'])"
   ]
  },
  {
   "cell_type": "markdown",
   "metadata": {},
   "source": [
    "## Exploring correlations"
   ]
  },
  {
   "cell_type": "code",
   "execution_count": 41,
   "metadata": {},
   "outputs": [
    {
     "data": {
      "text/html": [
       "<div>\n",
       "<style scoped>\n",
       "    .dataframe tbody tr th:only-of-type {\n",
       "        vertical-align: middle;\n",
       "    }\n",
       "\n",
       "    .dataframe tbody tr th {\n",
       "        vertical-align: top;\n",
       "    }\n",
       "\n",
       "    .dataframe thead th {\n",
       "        text-align: right;\n",
       "    }\n",
       "</style>\n",
       "<table border=\"1\" class=\"dataframe\">\n",
       "  <thead>\n",
       "    <tr style=\"text-align: right;\">\n",
       "      <th></th>\n",
       "      <th>id</th>\n",
       "      <th>price</th>\n",
       "      <th>bedrooms</th>\n",
       "      <th>bathrooms</th>\n",
       "      <th>sqft_living</th>\n",
       "      <th>floors</th>\n",
       "      <th>waterfront</th>\n",
       "      <th>sqft_above</th>\n",
       "      <th>yr_built</th>\n",
       "      <th>renovation_status</th>\n",
       "      <th>Has_basement</th>\n",
       "      <th>Has_view</th>\n",
       "    </tr>\n",
       "  </thead>\n",
       "  <tbody>\n",
       "    <tr>\n",
       "      <th>id</th>\n",
       "      <td>1.000000</td>\n",
       "      <td>0.005742</td>\n",
       "      <td>0.014085</td>\n",
       "      <td>0.019147</td>\n",
       "      <td>0.006561</td>\n",
       "      <td>0.029317</td>\n",
       "      <td>-0.002389</td>\n",
       "      <td>0.008249</td>\n",
       "      <td>0.023669</td>\n",
       "      <td>-0.015274</td>\n",
       "      <td>0.001904</td>\n",
       "      <td>0.014742</td>\n",
       "    </tr>\n",
       "    <tr>\n",
       "      <th>price</th>\n",
       "      <td>0.005742</td>\n",
       "      <td>1.000000</td>\n",
       "      <td>0.298421</td>\n",
       "      <td>0.453915</td>\n",
       "      <td>0.623682</td>\n",
       "      <td>0.267828</td>\n",
       "      <td>0.045610</td>\n",
       "      <td>0.529657</td>\n",
       "      <td>0.054334</td>\n",
       "      <td>0.089374</td>\n",
       "      <td>0.160794</td>\n",
       "      <td>0.236944</td>\n",
       "    </tr>\n",
       "    <tr>\n",
       "      <th>bedrooms</th>\n",
       "      <td>0.014085</td>\n",
       "      <td>0.298421</td>\n",
       "      <td>1.000000</td>\n",
       "      <td>0.489973</td>\n",
       "      <td>0.582915</td>\n",
       "      <td>0.155002</td>\n",
       "      <td>-0.029174</td>\n",
       "      <td>0.462594</td>\n",
       "      <td>0.157549</td>\n",
       "      <td>0.000329</td>\n",
       "      <td>0.143177</td>\n",
       "      <td>0.036275</td>\n",
       "    </tr>\n",
       "    <tr>\n",
       "      <th>bathrooms</th>\n",
       "      <td>0.019147</td>\n",
       "      <td>0.453915</td>\n",
       "      <td>0.489973</td>\n",
       "      <td>1.000000</td>\n",
       "      <td>0.714430</td>\n",
       "      <td>0.499740</td>\n",
       "      <td>-0.009336</td>\n",
       "      <td>0.636298</td>\n",
       "      <td>0.543948</td>\n",
       "      <td>0.024798</td>\n",
       "      <td>0.136062</td>\n",
       "      <td>0.085891</td>\n",
       "    </tr>\n",
       "    <tr>\n",
       "      <th>sqft_living</th>\n",
       "      <td>0.006561</td>\n",
       "      <td>0.623682</td>\n",
       "      <td>0.582915</td>\n",
       "      <td>0.714430</td>\n",
       "      <td>1.000000</td>\n",
       "      <td>0.337466</td>\n",
       "      <td>-0.004201</td>\n",
       "      <td>0.852259</td>\n",
       "      <td>0.351918</td>\n",
       "      <td>0.019796</td>\n",
       "      <td>0.174892</td>\n",
       "      <td>0.162970</td>\n",
       "    </tr>\n",
       "    <tr>\n",
       "      <th>floors</th>\n",
       "      <td>0.029317</td>\n",
       "      <td>0.267828</td>\n",
       "      <td>0.155002</td>\n",
       "      <td>0.499740</td>\n",
       "      <td>0.337466</td>\n",
       "      <td>1.000000</td>\n",
       "      <td>-0.007995</td>\n",
       "      <td>0.528026</td>\n",
       "      <td>0.508192</td>\n",
       "      <td>-0.005486</td>\n",
       "      <td>-0.281070</td>\n",
       "      <td>-0.028091</td>\n",
       "    </tr>\n",
       "    <tr>\n",
       "      <th>waterfront</th>\n",
       "      <td>-0.002389</td>\n",
       "      <td>0.045610</td>\n",
       "      <td>-0.029174</td>\n",
       "      <td>-0.009336</td>\n",
       "      <td>-0.004201</td>\n",
       "      <td>-0.007995</td>\n",
       "      <td>1.000000</td>\n",
       "      <td>-0.011194</td>\n",
       "      <td>-0.034099</td>\n",
       "      <td>0.058583</td>\n",
       "      <td>0.014617</td>\n",
       "      <td>0.175386</td>\n",
       "    </tr>\n",
       "    <tr>\n",
       "      <th>sqft_above</th>\n",
       "      <td>0.008249</td>\n",
       "      <td>0.529657</td>\n",
       "      <td>0.462594</td>\n",
       "      <td>0.636298</td>\n",
       "      <td>0.852259</td>\n",
       "      <td>0.528026</td>\n",
       "      <td>-0.011194</td>\n",
       "      <td>1.000000</td>\n",
       "      <td>0.460287</td>\n",
       "      <td>-0.003893</td>\n",
       "      <td>-0.277316</td>\n",
       "      <td>0.058804</td>\n",
       "    </tr>\n",
       "    <tr>\n",
       "      <th>yr_built</th>\n",
       "      <td>0.023669</td>\n",
       "      <td>0.054334</td>\n",
       "      <td>0.157549</td>\n",
       "      <td>0.543948</td>\n",
       "      <td>0.351918</td>\n",
       "      <td>0.508192</td>\n",
       "      <td>-0.034099</td>\n",
       "      <td>0.460287</td>\n",
       "      <td>1.000000</td>\n",
       "      <td>-0.219965</td>\n",
       "      <td>-0.167295</td>\n",
       "      <td>-0.075449</td>\n",
       "    </tr>\n",
       "    <tr>\n",
       "      <th>renovation_status</th>\n",
       "      <td>-0.015274</td>\n",
       "      <td>0.089374</td>\n",
       "      <td>0.000329</td>\n",
       "      <td>0.024798</td>\n",
       "      <td>0.019796</td>\n",
       "      <td>-0.005486</td>\n",
       "      <td>0.058583</td>\n",
       "      <td>-0.003893</td>\n",
       "      <td>-0.219965</td>\n",
       "      <td>1.000000</td>\n",
       "      <td>0.031965</td>\n",
       "      <td>0.052919</td>\n",
       "    </tr>\n",
       "    <tr>\n",
       "      <th>Has_basement</th>\n",
       "      <td>0.001904</td>\n",
       "      <td>0.160794</td>\n",
       "      <td>0.143177</td>\n",
       "      <td>0.136062</td>\n",
       "      <td>0.174892</td>\n",
       "      <td>-0.281070</td>\n",
       "      <td>0.014617</td>\n",
       "      <td>-0.277316</td>\n",
       "      <td>-0.167295</td>\n",
       "      <td>0.031965</td>\n",
       "      <td>1.000000</td>\n",
       "      <td>0.148902</td>\n",
       "    </tr>\n",
       "    <tr>\n",
       "      <th>Has_view</th>\n",
       "      <td>0.014742</td>\n",
       "      <td>0.236944</td>\n",
       "      <td>0.036275</td>\n",
       "      <td>0.085891</td>\n",
       "      <td>0.162970</td>\n",
       "      <td>-0.028091</td>\n",
       "      <td>0.175386</td>\n",
       "      <td>0.058804</td>\n",
       "      <td>-0.075449</td>\n",
       "      <td>0.052919</td>\n",
       "      <td>0.148902</td>\n",
       "      <td>1.000000</td>\n",
       "    </tr>\n",
       "  </tbody>\n",
       "</table>\n",
       "</div>"
      ],
      "text/plain": [
       "                         id     price  bedrooms  bathrooms  sqft_living  \\\n",
       "id                 1.000000  0.005742  0.014085   0.019147     0.006561   \n",
       "price              0.005742  1.000000  0.298421   0.453915     0.623682   \n",
       "bedrooms           0.014085  0.298421  1.000000   0.489973     0.582915   \n",
       "bathrooms          0.019147  0.453915  0.489973   1.000000     0.714430   \n",
       "sqft_living        0.006561  0.623682  0.582915   0.714430     1.000000   \n",
       "floors             0.029317  0.267828  0.155002   0.499740     0.337466   \n",
       "waterfront        -0.002389  0.045610 -0.029174  -0.009336    -0.004201   \n",
       "sqft_above         0.008249  0.529657  0.462594   0.636298     0.852259   \n",
       "yr_built           0.023669  0.054334  0.157549   0.543948     0.351918   \n",
       "renovation_status -0.015274  0.089374  0.000329   0.024798     0.019796   \n",
       "Has_basement       0.001904  0.160794  0.143177   0.136062     0.174892   \n",
       "Has_view           0.014742  0.236944  0.036275   0.085891     0.162970   \n",
       "\n",
       "                     floors  waterfront  sqft_above  yr_built  \\\n",
       "id                 0.029317   -0.002389    0.008249  0.023669   \n",
       "price              0.267828    0.045610    0.529657  0.054334   \n",
       "bedrooms           0.155002   -0.029174    0.462594  0.157549   \n",
       "bathrooms          0.499740   -0.009336    0.636298  0.543948   \n",
       "sqft_living        0.337466   -0.004201    0.852259  0.351918   \n",
       "floors             1.000000   -0.007995    0.528026  0.508192   \n",
       "waterfront        -0.007995    1.000000   -0.011194 -0.034099   \n",
       "sqft_above         0.528026   -0.011194    1.000000  0.460287   \n",
       "yr_built           0.508192   -0.034099    0.460287  1.000000   \n",
       "renovation_status -0.005486    0.058583   -0.003893 -0.219965   \n",
       "Has_basement      -0.281070    0.014617   -0.277316 -0.167295   \n",
       "Has_view          -0.028091    0.175386    0.058804 -0.075449   \n",
       "\n",
       "                   renovation_status  Has_basement  Has_view  \n",
       "id                         -0.015274      0.001904  0.014742  \n",
       "price                       0.089374      0.160794  0.236944  \n",
       "bedrooms                    0.000329      0.143177  0.036275  \n",
       "bathrooms                   0.024798      0.136062  0.085891  \n",
       "sqft_living                 0.019796      0.174892  0.162970  \n",
       "floors                     -0.005486     -0.281070 -0.028091  \n",
       "waterfront                  0.058583      0.014617  0.175386  \n",
       "sqft_above                 -0.003893     -0.277316  0.058804  \n",
       "yr_built                   -0.219965     -0.167295 -0.075449  \n",
       "renovation_status           1.000000      0.031965  0.052919  \n",
       "Has_basement                0.031965      1.000000  0.148902  \n",
       "Has_view                    0.052919      0.148902  1.000000  "
      ]
     },
     "execution_count": 41,
     "metadata": {},
     "output_type": "execute_result"
    }
   ],
   "source": [
    "data_corrs = data.corr()\n",
    "data_corrs"
   ]
  },
  {
   "cell_type": "code",
   "execution_count": 42,
   "metadata": {},
   "outputs": [
    {
     "data": {
      "text/plain": [
       "price                1.000000\n",
       "sqft_living          0.623682\n",
       "sqft_above           0.529657\n",
       "bathrooms            0.453915\n",
       "bedrooms             0.298421\n",
       "floors               0.267828\n",
       "Has_view             0.236944\n",
       "Has_basement         0.160794\n",
       "renovation_status    0.089374\n",
       "yr_built             0.054334\n",
       "waterfront           0.045610\n",
       "id                   0.005742\n",
       "Name: price, dtype: float64"
      ]
     },
     "execution_count": 42,
     "metadata": {},
     "output_type": "execute_result"
    }
   ],
   "source": [
    "data_corr = data.corr()['price'].map(abs).sort_values(ascending = False)\n",
    "data_corr\n"
   ]
  },
  {
   "cell_type": "code",
   "execution_count": 43,
   "metadata": {},
   "outputs": [
    {
     "data": {
      "image/png": "[encoded data removed]",
      "text/plain": [
       "<Figure size 504x432 with 2 Axes>"
      ]
     },
     "metadata": {
      "needs_background": "light"
     },
     "output_type": "display_data"
    }
   ],
   "source": [
    "plt.figure(figsize=(7,6))\n",
    "mask = np.triu(np.ones_like(data_corrs, dtype=bool))\n",
    "sns.heatmap(data.corr(), cmap= 'coolwarm', mask= mask, linewidth= 1)\n",
    "plt.title(\"Correlation between features\",weight='bold',fontsize=18)\n",
    "plt.show()\n"
   ]
  },
  {
   "cell_type": "markdown",
   "metadata": {},
   "source": [
    "This table of correlations shows that the square feet of living space has the strongest correlation with sale price at 0.624, followed by square feet of living space above ground and number of bathrooms, at 0.531 and 0.455, respectively.. "
   ]
  },
  {
   "cell_type": "code",
   "execution_count": 44,
   "metadata": {},
   "outputs": [
    {
     "data": {
      "image/png": "[encoded data removed]",
      "text/plain": [
       "<Figure size 576x432 with 1 Axes>"
      ]
     },
     "metadata": {
      "needs_background": "light"
     },
     "output_type": "display_data"
    }
   ],
   "source": [
    "#visually inspect correlation between sqft_living and sale price\n",
    "fig, ax = plt.subplots(figsize = (8,6))\n",
    "\n",
    "ax.scatter(data['sqft_living'],data['price'], alpha = .1)\n",
    "ax.set_xlabel('Sqft of Living Space')\n",
    "ax.set_ylabel('Price')\n",
    "ax.set_title('Correlation btwn Sqft Living and Price')\n",
    "\n",
    "plt.tight_layout()"
   ]
  },
  {
   "cell_type": "markdown",
   "metadata": {},
   "source": [
    "#lets drop the sqft_above in order to enable us handle multicollinearity issues which might alter our interpretations"
   ]
  },
  {
   "cell_type": "code",
   "execution_count": 45,
   "metadata": {},
   "outputs": [
    {
     "data": {
      "text/html": [
       "<div>\n",
       "<style scoped>\n",
       "    .dataframe tbody tr th:only-of-type {\n",
       "        vertical-align: middle;\n",
       "    }\n",
       "\n",
       "    .dataframe tbody tr th {\n",
       "        vertical-align: top;\n",
       "    }\n",
       "\n",
       "    .dataframe thead th {\n",
       "        text-align: right;\n",
       "    }\n",
       "</style>\n",
       "<table border=\"1\" class=\"dataframe\">\n",
       "  <thead>\n",
       "    <tr style=\"text-align: right;\">\n",
       "      <th></th>\n",
       "      <th>id</th>\n",
       "      <th>price</th>\n",
       "      <th>bedrooms</th>\n",
       "      <th>bathrooms</th>\n",
       "      <th>sqft_living</th>\n",
       "      <th>floors</th>\n",
       "      <th>waterfront</th>\n",
       "      <th>condition</th>\n",
       "      <th>grade</th>\n",
       "      <th>sqft_above</th>\n",
       "      <th>yr_built</th>\n",
       "      <th>renovation_status</th>\n",
       "      <th>Has_basement</th>\n",
       "      <th>Has_view</th>\n",
       "    </tr>\n",
       "  </thead>\n",
       "  <tbody>\n",
       "    <tr>\n",
       "      <th>0</th>\n",
       "      <td>7129300520</td>\n",
       "      <td>221900.0</td>\n",
       "      <td>3</td>\n",
       "      <td>1.00</td>\n",
       "      <td>1180</td>\n",
       "      <td>1.0</td>\n",
       "      <td>0.0</td>\n",
       "      <td>Average</td>\n",
       "      <td>7 Average</td>\n",
       "      <td>1180</td>\n",
       "      <td>1955</td>\n",
       "      <td>0</td>\n",
       "      <td>0</td>\n",
       "      <td>0</td>\n",
       "    </tr>\n",
       "    <tr>\n",
       "      <th>1</th>\n",
       "      <td>6414100192</td>\n",
       "      <td>538000.0</td>\n",
       "      <td>3</td>\n",
       "      <td>2.25</td>\n",
       "      <td>2570</td>\n",
       "      <td>2.0</td>\n",
       "      <td>0.0</td>\n",
       "      <td>Average</td>\n",
       "      <td>7 Average</td>\n",
       "      <td>2170</td>\n",
       "      <td>1951</td>\n",
       "      <td>1</td>\n",
       "      <td>1</td>\n",
       "      <td>0</td>\n",
       "    </tr>\n",
       "    <tr>\n",
       "      <th>3</th>\n",
       "      <td>2487200875</td>\n",
       "      <td>604000.0</td>\n",
       "      <td>4</td>\n",
       "      <td>3.00</td>\n",
       "      <td>1960</td>\n",
       "      <td>1.0</td>\n",
       "      <td>0.0</td>\n",
       "      <td>Very Good</td>\n",
       "      <td>7 Average</td>\n",
       "      <td>1050</td>\n",
       "      <td>1965</td>\n",
       "      <td>0</td>\n",
       "      <td>1</td>\n",
       "      <td>0</td>\n",
       "    </tr>\n",
       "    <tr>\n",
       "      <th>4</th>\n",
       "      <td>1954400510</td>\n",
       "      <td>510000.0</td>\n",
       "      <td>3</td>\n",
       "      <td>2.00</td>\n",
       "      <td>1680</td>\n",
       "      <td>1.0</td>\n",
       "      <td>0.0</td>\n",
       "      <td>Average</td>\n",
       "      <td>8 Good</td>\n",
       "      <td>1680</td>\n",
       "      <td>1987</td>\n",
       "      <td>0</td>\n",
       "      <td>0</td>\n",
       "      <td>0</td>\n",
       "    </tr>\n",
       "    <tr>\n",
       "      <th>6</th>\n",
       "      <td>1321400060</td>\n",
       "      <td>257500.0</td>\n",
       "      <td>3</td>\n",
       "      <td>2.25</td>\n",
       "      <td>1715</td>\n",
       "      <td>2.0</td>\n",
       "      <td>0.0</td>\n",
       "      <td>Average</td>\n",
       "      <td>7 Average</td>\n",
       "      <td>1715</td>\n",
       "      <td>1995</td>\n",
       "      <td>0</td>\n",
       "      <td>0</td>\n",
       "      <td>0</td>\n",
       "    </tr>\n",
       "  </tbody>\n",
       "</table>\n",
       "</div>"
      ],
      "text/plain": [
       "           id     price  bedrooms  bathrooms  sqft_living  floors  waterfront  \\\n",
       "0  7129300520  221900.0         3       1.00         1180     1.0         0.0   \n",
       "1  6414100192  538000.0         3       2.25         2570     2.0         0.0   \n",
       "3  2487200875  604000.0         4       3.00         1960     1.0         0.0   \n",
       "4  1954400510  510000.0         3       2.00         1680     1.0         0.0   \n",
       "6  1321400060  257500.0         3       2.25         1715     2.0         0.0   \n",
       "\n",
       "   condition      grade  sqft_above  yr_built  renovation_status  \\\n",
       "0    Average  7 Average        1180      1955                  0   \n",
       "1    Average  7 Average        2170      1951                  1   \n",
       "3  Very Good  7 Average        1050      1965                  0   \n",
       "4    Average     8 Good        1680      1987                  0   \n",
       "6    Average  7 Average        1715      1995                  0   \n",
       "\n",
       "   Has_basement  Has_view  \n",
       "0             0         0  \n",
       "1             1         0  \n",
       "3             1         0  \n",
       "4             0         0  \n",
       "6             0         0  "
      ]
     },
     "execution_count": 45,
     "metadata": {},
     "output_type": "execute_result"
    }
   ],
   "source": [
    "data.head()"
   ]
  },
  {
   "cell_type": "code",
   "execution_count": 46,
   "metadata": {},
   "outputs": [],
   "source": [
    "#data.drop(columns = [\"sqft_above\"])"
   ]
  },
  {
   "cell_type": "markdown",
   "metadata": {},
   "source": [
    "### creating dummy variables"
   ]
  },
  {
   "cell_type": "code",
   "execution_count": 47,
   "metadata": {},
   "outputs": [],
   "source": [
    "cond_dummies = pd.get_dummies(data['condition'], prefix = 'cond', drop_first = True)\n",
    "grade_dummies = pd.get_dummies(data['grade'], prefix = 'grade', drop_first = True)"
   ]
  },
  {
   "cell_type": "code",
   "execution_count": 48,
   "metadata": {},
   "outputs": [],
   "source": [
    "data = data.drop(['condition', 'grade'], axis = 1)\n",
    "data = pd.concat([data, cond_dummies, grade_dummies], axis = 1)"
   ]
  },
  {
   "cell_type": "code",
   "execution_count": 49,
   "metadata": {},
   "outputs": [
    {
     "data": {
      "text/html": [
       "<div>\n",
       "<style scoped>\n",
       "    .dataframe tbody tr th:only-of-type {\n",
       "        vertical-align: middle;\n",
       "    }\n",
       "\n",
       "    .dataframe tbody tr th {\n",
       "        vertical-align: top;\n",
       "    }\n",
       "\n",
       "    .dataframe thead th {\n",
       "        text-align: right;\n",
       "    }\n",
       "</style>\n",
       "<table border=\"1\" class=\"dataframe\">\n",
       "  <thead>\n",
       "    <tr style=\"text-align: right;\">\n",
       "      <th></th>\n",
       "      <th>id</th>\n",
       "      <th>price</th>\n",
       "      <th>bedrooms</th>\n",
       "      <th>bathrooms</th>\n",
       "      <th>sqft_living</th>\n",
       "      <th>floors</th>\n",
       "      <th>waterfront</th>\n",
       "      <th>sqft_above</th>\n",
       "      <th>yr_built</th>\n",
       "      <th>renovation_status</th>\n",
       "      <th>...</th>\n",
       "      <th>cond_Very Good</th>\n",
       "      <th>grade_11 Excellent</th>\n",
       "      <th>grade_12 Luxury</th>\n",
       "      <th>grade_3 Poor</th>\n",
       "      <th>grade_4 Low</th>\n",
       "      <th>grade_5 Fair</th>\n",
       "      <th>grade_6 Low Average</th>\n",
       "      <th>grade_7 Average</th>\n",
       "      <th>grade_8 Good</th>\n",
       "      <th>grade_9 Better</th>\n",
       "    </tr>\n",
       "  </thead>\n",
       "  <tbody>\n",
       "    <tr>\n",
       "      <th>0</th>\n",
       "      <td>7129300520</td>\n",
       "      <td>221900.0</td>\n",
       "      <td>3</td>\n",
       "      <td>1.00</td>\n",
       "      <td>1180</td>\n",
       "      <td>1.0</td>\n",
       "      <td>0.0</td>\n",
       "      <td>1180</td>\n",
       "      <td>1955</td>\n",
       "      <td>0</td>\n",
       "      <td>...</td>\n",
       "      <td>0</td>\n",
       "      <td>0</td>\n",
       "      <td>0</td>\n",
       "      <td>0</td>\n",
       "      <td>0</td>\n",
       "      <td>0</td>\n",
       "      <td>0</td>\n",
       "      <td>1</td>\n",
       "      <td>0</td>\n",
       "      <td>0</td>\n",
       "    </tr>\n",
       "    <tr>\n",
       "      <th>1</th>\n",
       "      <td>6414100192</td>\n",
       "      <td>538000.0</td>\n",
       "      <td>3</td>\n",
       "      <td>2.25</td>\n",
       "      <td>2570</td>\n",
       "      <td>2.0</td>\n",
       "      <td>0.0</td>\n",
       "      <td>2170</td>\n",
       "      <td>1951</td>\n",
       "      <td>1</td>\n",
       "      <td>...</td>\n",
       "      <td>0</td>\n",
       "      <td>0</td>\n",
       "      <td>0</td>\n",
       "      <td>0</td>\n",
       "      <td>0</td>\n",
       "      <td>0</td>\n",
       "      <td>0</td>\n",
       "      <td>1</td>\n",
       "      <td>0</td>\n",
       "      <td>0</td>\n",
       "    </tr>\n",
       "    <tr>\n",
       "      <th>3</th>\n",
       "      <td>2487200875</td>\n",
       "      <td>604000.0</td>\n",
       "      <td>4</td>\n",
       "      <td>3.00</td>\n",
       "      <td>1960</td>\n",
       "      <td>1.0</td>\n",
       "      <td>0.0</td>\n",
       "      <td>1050</td>\n",
       "      <td>1965</td>\n",
       "      <td>0</td>\n",
       "      <td>...</td>\n",
       "      <td>1</td>\n",
       "      <td>0</td>\n",
       "      <td>0</td>\n",
       "      <td>0</td>\n",
       "      <td>0</td>\n",
       "      <td>0</td>\n",
       "      <td>0</td>\n",
       "      <td>1</td>\n",
       "      <td>0</td>\n",
       "      <td>0</td>\n",
       "    </tr>\n",
       "    <tr>\n",
       "      <th>4</th>\n",
       "      <td>1954400510</td>\n",
       "      <td>510000.0</td>\n",
       "      <td>3</td>\n",
       "      <td>2.00</td>\n",
       "      <td>1680</td>\n",
       "      <td>1.0</td>\n",
       "      <td>0.0</td>\n",
       "      <td>1680</td>\n",
       "      <td>1987</td>\n",
       "      <td>0</td>\n",
       "      <td>...</td>\n",
       "      <td>0</td>\n",
       "      <td>0</td>\n",
       "      <td>0</td>\n",
       "      <td>0</td>\n",
       "      <td>0</td>\n",
       "      <td>0</td>\n",
       "      <td>0</td>\n",
       "      <td>0</td>\n",
       "      <td>1</td>\n",
       "      <td>0</td>\n",
       "    </tr>\n",
       "    <tr>\n",
       "      <th>6</th>\n",
       "      <td>1321400060</td>\n",
       "      <td>257500.0</td>\n",
       "      <td>3</td>\n",
       "      <td>2.25</td>\n",
       "      <td>1715</td>\n",
       "      <td>2.0</td>\n",
       "      <td>0.0</td>\n",
       "      <td>1715</td>\n",
       "      <td>1995</td>\n",
       "      <td>0</td>\n",
       "      <td>...</td>\n",
       "      <td>0</td>\n",
       "      <td>0</td>\n",
       "      <td>0</td>\n",
       "      <td>0</td>\n",
       "      <td>0</td>\n",
       "      <td>0</td>\n",
       "      <td>0</td>\n",
       "      <td>1</td>\n",
       "      <td>0</td>\n",
       "      <td>0</td>\n",
       "    </tr>\n",
       "  </tbody>\n",
       "</table>\n",
       "<p>5 rows × 25 columns</p>\n",
       "</div>"
      ],
      "text/plain": [
       "           id     price  bedrooms  bathrooms  sqft_living  floors  waterfront  \\\n",
       "0  7129300520  221900.0         3       1.00         1180     1.0         0.0   \n",
       "1  6414100192  538000.0         3       2.25         2570     2.0         0.0   \n",
       "3  2487200875  604000.0         4       3.00         1960     1.0         0.0   \n",
       "4  1954400510  510000.0         3       2.00         1680     1.0         0.0   \n",
       "6  1321400060  257500.0         3       2.25         1715     2.0         0.0   \n",
       "\n",
       "   sqft_above  yr_built  renovation_status  ...  cond_Very Good  \\\n",
       "0        1180      1955                  0  ...               0   \n",
       "1        2170      1951                  1  ...               0   \n",
       "3        1050      1965                  0  ...               1   \n",
       "4        1680      1987                  0  ...               0   \n",
       "6        1715      1995                  0  ...               0   \n",
       "\n",
       "   grade_11 Excellent  grade_12 Luxury  grade_3 Poor  grade_4 Low  \\\n",
       "0                   0                0             0            0   \n",
       "1                   0                0             0            0   \n",
       "3                   0                0             0            0   \n",
       "4                   0                0             0            0   \n",
       "6                   0                0             0            0   \n",
       "\n",
       "   grade_5 Fair  grade_6 Low Average  grade_7 Average  grade_8 Good  \\\n",
       "0             0                    0                1             0   \n",
       "1             0                    0                1             0   \n",
       "3             0                    0                1             0   \n",
       "4             0                    0                0             1   \n",
       "6             0                    0                1             0   \n",
       "\n",
       "   grade_9 Better  \n",
       "0               0  \n",
       "1               0  \n",
       "3               0  \n",
       "4               0  \n",
       "6               0  \n",
       "\n",
       "[5 rows x 25 columns]"
      ]
     },
     "execution_count": 49,
     "metadata": {},
     "output_type": "execute_result"
    }
   ],
   "source": [
    "data.head()"
   ]
  },
  {
   "cell_type": "code",
   "execution_count": 50,
   "metadata": {},
   "outputs": [
    {
     "data": {
      "text/html": [
       "<div>\n",
       "<style scoped>\n",
       "    .dataframe tbody tr th:only-of-type {\n",
       "        vertical-align: middle;\n",
       "    }\n",
       "\n",
       "    .dataframe tbody tr th {\n",
       "        vertical-align: top;\n",
       "    }\n",
       "\n",
       "    .dataframe thead th {\n",
       "        text-align: right;\n",
       "    }\n",
       "</style>\n",
       "<table border=\"1\" class=\"dataframe\">\n",
       "  <thead>\n",
       "    <tr style=\"text-align: right;\">\n",
       "      <th></th>\n",
       "      <th>cc</th>\n",
       "    </tr>\n",
       "    <tr>\n",
       "      <th>pairs</th>\n",
       "      <th></th>\n",
       "    </tr>\n",
       "  </thead>\n",
       "  <tbody>\n",
       "    <tr>\n",
       "      <th>(sqft_living, sqft_above)</th>\n",
       "      <td>0.852259</td>\n",
       "    </tr>\n",
       "  </tbody>\n",
       "</table>\n",
       "</div>"
      ],
      "text/plain": [
       "                                 cc\n",
       "pairs                              \n",
       "(sqft_living, sqft_above)  0.852259"
      ]
     },
     "execution_count": 50,
     "metadata": {},
     "output_type": "execute_result"
    }
   ],
   "source": [
    "correlation_pairs = data.corr().abs().stack().reset_index().sort_values(0, ascending=False)\n",
    "correlation_pairs['pairs'] = list(zip(correlation_pairs.level_0,correlation_pairs.level_1))\n",
    "correlation_pairs.set_index(['pairs'], inplace = True)\n",
    "correlation_pairs.drop(columns=['level_1', 'level_0'], inplace = True)\n",
    "\n",
    "# cc for correlation coefficient\n",
    "correlation_pairs.columns = ['cc']\n",
    "correlation_pairs.drop_duplicates(inplace=True)\n",
    "\n",
    "# Filter for correlation coefficients less than 1 and greater than 0.75\n",
    "correlation_pairs [(correlation_pairs .cc>.75) & (correlation_pairs .cc<1)]"
   ]
  },
  {
   "cell_type": "code",
   "execution_count": 51,
   "metadata": {},
   "outputs": [
    {
     "data": {
      "text/plain": [
       "2"
      ]
     },
     "execution_count": 51,
     "metadata": {},
     "output_type": "execute_result"
    }
   ],
   "source": [
    "data[\"Has_basement\"].nunique()"
   ]
  },
  {
   "cell_type": "markdown",
   "metadata": {},
   "source": [
    "lets drop the sqft_above in order to enable us handle multicollinearity issues which might alter our interpretations"
   ]
  },
  {
   "cell_type": "code",
   "execution_count": 52,
   "metadata": {},
   "outputs": [
    {
     "data": {
      "text/html": [
       "<div>\n",
       "<style scoped>\n",
       "    .dataframe tbody tr th:only-of-type {\n",
       "        vertical-align: middle;\n",
       "    }\n",
       "\n",
       "    .dataframe tbody tr th {\n",
       "        vertical-align: top;\n",
       "    }\n",
       "\n",
       "    .dataframe thead th {\n",
       "        text-align: right;\n",
       "    }\n",
       "</style>\n",
       "<table border=\"1\" class=\"dataframe\">\n",
       "  <thead>\n",
       "    <tr style=\"text-align: right;\">\n",
       "      <th></th>\n",
       "      <th>id</th>\n",
       "      <th>price</th>\n",
       "      <th>bedrooms</th>\n",
       "      <th>bathrooms</th>\n",
       "      <th>sqft_living</th>\n",
       "      <th>floors</th>\n",
       "      <th>waterfront</th>\n",
       "      <th>yr_built</th>\n",
       "      <th>renovation_status</th>\n",
       "      <th>Has_basement</th>\n",
       "      <th>...</th>\n",
       "      <th>cond_Very Good</th>\n",
       "      <th>grade_11 Excellent</th>\n",
       "      <th>grade_12 Luxury</th>\n",
       "      <th>grade_3 Poor</th>\n",
       "      <th>grade_4 Low</th>\n",
       "      <th>grade_5 Fair</th>\n",
       "      <th>grade_6 Low Average</th>\n",
       "      <th>grade_7 Average</th>\n",
       "      <th>grade_8 Good</th>\n",
       "      <th>grade_9 Better</th>\n",
       "    </tr>\n",
       "  </thead>\n",
       "  <tbody>\n",
       "    <tr>\n",
       "      <th>0</th>\n",
       "      <td>7129300520</td>\n",
       "      <td>221900.0</td>\n",
       "      <td>3</td>\n",
       "      <td>1.00</td>\n",
       "      <td>1180</td>\n",
       "      <td>1.0</td>\n",
       "      <td>0.0</td>\n",
       "      <td>1955</td>\n",
       "      <td>0</td>\n",
       "      <td>0</td>\n",
       "      <td>...</td>\n",
       "      <td>0</td>\n",
       "      <td>0</td>\n",
       "      <td>0</td>\n",
       "      <td>0</td>\n",
       "      <td>0</td>\n",
       "      <td>0</td>\n",
       "      <td>0</td>\n",
       "      <td>1</td>\n",
       "      <td>0</td>\n",
       "      <td>0</td>\n",
       "    </tr>\n",
       "    <tr>\n",
       "      <th>1</th>\n",
       "      <td>6414100192</td>\n",
       "      <td>538000.0</td>\n",
       "      <td>3</td>\n",
       "      <td>2.25</td>\n",
       "      <td>2570</td>\n",
       "      <td>2.0</td>\n",
       "      <td>0.0</td>\n",
       "      <td>1951</td>\n",
       "      <td>1</td>\n",
       "      <td>1</td>\n",
       "      <td>...</td>\n",
       "      <td>0</td>\n",
       "      <td>0</td>\n",
       "      <td>0</td>\n",
       "      <td>0</td>\n",
       "      <td>0</td>\n",
       "      <td>0</td>\n",
       "      <td>0</td>\n",
       "      <td>1</td>\n",
       "      <td>0</td>\n",
       "      <td>0</td>\n",
       "    </tr>\n",
       "    <tr>\n",
       "      <th>3</th>\n",
       "      <td>2487200875</td>\n",
       "      <td>604000.0</td>\n",
       "      <td>4</td>\n",
       "      <td>3.00</td>\n",
       "      <td>1960</td>\n",
       "      <td>1.0</td>\n",
       "      <td>0.0</td>\n",
       "      <td>1965</td>\n",
       "      <td>0</td>\n",
       "      <td>1</td>\n",
       "      <td>...</td>\n",
       "      <td>1</td>\n",
       "      <td>0</td>\n",
       "      <td>0</td>\n",
       "      <td>0</td>\n",
       "      <td>0</td>\n",
       "      <td>0</td>\n",
       "      <td>0</td>\n",
       "      <td>1</td>\n",
       "      <td>0</td>\n",
       "      <td>0</td>\n",
       "    </tr>\n",
       "    <tr>\n",
       "      <th>4</th>\n",
       "      <td>1954400510</td>\n",
       "      <td>510000.0</td>\n",
       "      <td>3</td>\n",
       "      <td>2.00</td>\n",
       "      <td>1680</td>\n",
       "      <td>1.0</td>\n",
       "      <td>0.0</td>\n",
       "      <td>1987</td>\n",
       "      <td>0</td>\n",
       "      <td>0</td>\n",
       "      <td>...</td>\n",
       "      <td>0</td>\n",
       "      <td>0</td>\n",
       "      <td>0</td>\n",
       "      <td>0</td>\n",
       "      <td>0</td>\n",
       "      <td>0</td>\n",
       "      <td>0</td>\n",
       "      <td>0</td>\n",
       "      <td>1</td>\n",
       "      <td>0</td>\n",
       "    </tr>\n",
       "    <tr>\n",
       "      <th>6</th>\n",
       "      <td>1321400060</td>\n",
       "      <td>257500.0</td>\n",
       "      <td>3</td>\n",
       "      <td>2.25</td>\n",
       "      <td>1715</td>\n",
       "      <td>2.0</td>\n",
       "      <td>0.0</td>\n",
       "      <td>1995</td>\n",
       "      <td>0</td>\n",
       "      <td>0</td>\n",
       "      <td>...</td>\n",
       "      <td>0</td>\n",
       "      <td>0</td>\n",
       "      <td>0</td>\n",
       "      <td>0</td>\n",
       "      <td>0</td>\n",
       "      <td>0</td>\n",
       "      <td>0</td>\n",
       "      <td>1</td>\n",
       "      <td>0</td>\n",
       "      <td>0</td>\n",
       "    </tr>\n",
       "    <tr>\n",
       "      <th>...</th>\n",
       "      <td>...</td>\n",
       "      <td>...</td>\n",
       "      <td>...</td>\n",
       "      <td>...</td>\n",
       "      <td>...</td>\n",
       "      <td>...</td>\n",
       "      <td>...</td>\n",
       "      <td>...</td>\n",
       "      <td>...</td>\n",
       "      <td>...</td>\n",
       "      <td>...</td>\n",
       "      <td>...</td>\n",
       "      <td>...</td>\n",
       "      <td>...</td>\n",
       "      <td>...</td>\n",
       "      <td>...</td>\n",
       "      <td>...</td>\n",
       "      <td>...</td>\n",
       "      <td>...</td>\n",
       "      <td>...</td>\n",
       "      <td>...</td>\n",
       "    </tr>\n",
       "    <tr>\n",
       "      <th>21592</th>\n",
       "      <td>263000018</td>\n",
       "      <td>360000.0</td>\n",
       "      <td>3</td>\n",
       "      <td>2.50</td>\n",
       "      <td>1530</td>\n",
       "      <td>3.0</td>\n",
       "      <td>0.0</td>\n",
       "      <td>2009</td>\n",
       "      <td>0</td>\n",
       "      <td>0</td>\n",
       "      <td>...</td>\n",
       "      <td>0</td>\n",
       "      <td>0</td>\n",
       "      <td>0</td>\n",
       "      <td>0</td>\n",
       "      <td>0</td>\n",
       "      <td>0</td>\n",
       "      <td>0</td>\n",
       "      <td>0</td>\n",
       "      <td>1</td>\n",
       "      <td>0</td>\n",
       "    </tr>\n",
       "    <tr>\n",
       "      <th>21593</th>\n",
       "      <td>6600060120</td>\n",
       "      <td>400000.0</td>\n",
       "      <td>4</td>\n",
       "      <td>2.50</td>\n",
       "      <td>2310</td>\n",
       "      <td>2.0</td>\n",
       "      <td>0.0</td>\n",
       "      <td>2014</td>\n",
       "      <td>0</td>\n",
       "      <td>0</td>\n",
       "      <td>...</td>\n",
       "      <td>0</td>\n",
       "      <td>0</td>\n",
       "      <td>0</td>\n",
       "      <td>0</td>\n",
       "      <td>0</td>\n",
       "      <td>0</td>\n",
       "      <td>0</td>\n",
       "      <td>0</td>\n",
       "      <td>1</td>\n",
       "      <td>0</td>\n",
       "    </tr>\n",
       "    <tr>\n",
       "      <th>21594</th>\n",
       "      <td>1523300141</td>\n",
       "      <td>402101.0</td>\n",
       "      <td>2</td>\n",
       "      <td>0.75</td>\n",
       "      <td>1020</td>\n",
       "      <td>2.0</td>\n",
       "      <td>0.0</td>\n",
       "      <td>2009</td>\n",
       "      <td>0</td>\n",
       "      <td>0</td>\n",
       "      <td>...</td>\n",
       "      <td>0</td>\n",
       "      <td>0</td>\n",
       "      <td>0</td>\n",
       "      <td>0</td>\n",
       "      <td>0</td>\n",
       "      <td>0</td>\n",
       "      <td>0</td>\n",
       "      <td>1</td>\n",
       "      <td>0</td>\n",
       "      <td>0</td>\n",
       "    </tr>\n",
       "    <tr>\n",
       "      <th>21595</th>\n",
       "      <td>291310100</td>\n",
       "      <td>400000.0</td>\n",
       "      <td>3</td>\n",
       "      <td>2.50</td>\n",
       "      <td>1600</td>\n",
       "      <td>2.0</td>\n",
       "      <td>0.0</td>\n",
       "      <td>2004</td>\n",
       "      <td>0</td>\n",
       "      <td>0</td>\n",
       "      <td>...</td>\n",
       "      <td>0</td>\n",
       "      <td>0</td>\n",
       "      <td>0</td>\n",
       "      <td>0</td>\n",
       "      <td>0</td>\n",
       "      <td>0</td>\n",
       "      <td>0</td>\n",
       "      <td>0</td>\n",
       "      <td>1</td>\n",
       "      <td>0</td>\n",
       "    </tr>\n",
       "    <tr>\n",
       "      <th>21596</th>\n",
       "      <td>1523300157</td>\n",
       "      <td>325000.0</td>\n",
       "      <td>2</td>\n",
       "      <td>0.75</td>\n",
       "      <td>1020</td>\n",
       "      <td>2.0</td>\n",
       "      <td>0.0</td>\n",
       "      <td>2008</td>\n",
       "      <td>0</td>\n",
       "      <td>0</td>\n",
       "      <td>...</td>\n",
       "      <td>0</td>\n",
       "      <td>0</td>\n",
       "      <td>0</td>\n",
       "      <td>0</td>\n",
       "      <td>0</td>\n",
       "      <td>0</td>\n",
       "      <td>0</td>\n",
       "      <td>1</td>\n",
       "      <td>0</td>\n",
       "      <td>0</td>\n",
       "    </tr>\n",
       "  </tbody>\n",
       "</table>\n",
       "<p>16699 rows × 24 columns</p>\n",
       "</div>"
      ],
      "text/plain": [
       "               id     price  bedrooms  bathrooms  sqft_living  floors  \\\n",
       "0      7129300520  221900.0         3       1.00         1180     1.0   \n",
       "1      6414100192  538000.0         3       2.25         2570     2.0   \n",
       "3      2487200875  604000.0         4       3.00         1960     1.0   \n",
       "4      1954400510  510000.0         3       2.00         1680     1.0   \n",
       "6      1321400060  257500.0         3       2.25         1715     2.0   \n",
       "...           ...       ...       ...        ...          ...     ...   \n",
       "21592   263000018  360000.0         3       2.50         1530     3.0   \n",
       "21593  6600060120  400000.0         4       2.50         2310     2.0   \n",
       "21594  1523300141  402101.0         2       0.75         1020     2.0   \n",
       "21595   291310100  400000.0         3       2.50         1600     2.0   \n",
       "21596  1523300157  325000.0         2       0.75         1020     2.0   \n",
       "\n",
       "       waterfront  yr_built  renovation_status  Has_basement  ...  \\\n",
       "0             0.0      1955                  0             0  ...   \n",
       "1             0.0      1951                  1             1  ...   \n",
       "3             0.0      1965                  0             1  ...   \n",
       "4             0.0      1987                  0             0  ...   \n",
       "6             0.0      1995                  0             0  ...   \n",
       "...           ...       ...                ...           ...  ...   \n",
       "21592         0.0      2009                  0             0  ...   \n",
       "21593         0.0      2014                  0             0  ...   \n",
       "21594         0.0      2009                  0             0  ...   \n",
       "21595         0.0      2004                  0             0  ...   \n",
       "21596         0.0      2008                  0             0  ...   \n",
       "\n",
       "       cond_Very Good  grade_11 Excellent  grade_12 Luxury  grade_3 Poor  \\\n",
       "0                   0                   0                0             0   \n",
       "1                   0                   0                0             0   \n",
       "3                   1                   0                0             0   \n",
       "4                   0                   0                0             0   \n",
       "6                   0                   0                0             0   \n",
       "...               ...                 ...              ...           ...   \n",
       "21592               0                   0                0             0   \n",
       "21593               0                   0                0             0   \n",
       "21594               0                   0                0             0   \n",
       "21595               0                   0                0             0   \n",
       "21596               0                   0                0             0   \n",
       "\n",
       "       grade_4 Low  grade_5 Fair  grade_6 Low Average  grade_7 Average  \\\n",
       "0                0             0                    0                1   \n",
       "1                0             0                    0                1   \n",
       "3                0             0                    0                1   \n",
       "4                0             0                    0                0   \n",
       "6                0             0                    0                1   \n",
       "...            ...           ...                  ...              ...   \n",
       "21592            0             0                    0                0   \n",
       "21593            0             0                    0                0   \n",
       "21594            0             0                    0                1   \n",
       "21595            0             0                    0                0   \n",
       "21596            0             0                    0                1   \n",
       "\n",
       "       grade_8 Good  grade_9 Better  \n",
       "0                 0               0  \n",
       "1                 0               0  \n",
       "3                 0               0  \n",
       "4                 1               0  \n",
       "6                 0               0  \n",
       "...             ...             ...  \n",
       "21592             1               0  \n",
       "21593             1               0  \n",
       "21594             0               0  \n",
       "21595             1               0  \n",
       "21596             0               0  \n",
       "\n",
       "[16699 rows x 24 columns]"
      ]
     },
     "execution_count": 52,
     "metadata": {},
     "output_type": "execute_result"
    }
   ],
   "source": [
    "data.drop(columns = [\"sqft_above\"])"
   ]
  },
  {
   "cell_type": "code",
   "execution_count": 53,
   "metadata": {},
   "outputs": [
    {
     "name": "stdout",
     "output_type": "stream",
     "text": [
      "<class 'pandas.core.frame.DataFrame'>\n",
      "Int64Index: 16699 entries, 0 to 21596\n",
      "Data columns (total 25 columns):\n",
      " #   Column               Non-Null Count  Dtype  \n",
      "---  ------               --------------  -----  \n",
      " 0   id                   16699 non-null  int64  \n",
      " 1   price                16699 non-null  float64\n",
      " 2   bedrooms             16699 non-null  int64  \n",
      " 3   bathrooms            16699 non-null  float64\n",
      " 4   sqft_living          16699 non-null  int64  \n",
      " 5   floors               16699 non-null  float64\n",
      " 6   waterfront           16699 non-null  float64\n",
      " 7   sqft_above           16699 non-null  int64  \n",
      " 8   yr_built             16699 non-null  int64  \n",
      " 9   renovation_status    16699 non-null  int64  \n",
      " 10  Has_basement         16699 non-null  int64  \n",
      " 11  Has_view             16699 non-null  int64  \n",
      " 12  cond_Fair            16699 non-null  uint8  \n",
      " 13  cond_Good            16699 non-null  uint8  \n",
      " 14  cond_Poor            16699 non-null  uint8  \n",
      " 15  cond_Very Good       16699 non-null  uint8  \n",
      " 16  grade_11 Excellent   16699 non-null  uint8  \n",
      " 17  grade_12 Luxury      16699 non-null  uint8  \n",
      " 18  grade_3 Poor         16699 non-null  uint8  \n",
      " 19  grade_4 Low          16699 non-null  uint8  \n",
      " 20  grade_5 Fair         16699 non-null  uint8  \n",
      " 21  grade_6 Low Average  16699 non-null  uint8  \n",
      " 22  grade_7 Average      16699 non-null  uint8  \n",
      " 23  grade_8 Good         16699 non-null  uint8  \n",
      " 24  grade_9 Better       16699 non-null  uint8  \n",
      "dtypes: float64(4), int64(8), uint8(13)\n",
      "memory usage: 1.9 MB\n"
     ]
    }
   ],
   "source": [
    "data.info()"
   ]
  },
  {
   "cell_type": "markdown",
   "metadata": {},
   "source": [
    "saving the data as csv to access it in the next notebook for modelling procedures"
   ]
  },
  {
   "cell_type": "code",
   "execution_count": 54,
   "metadata": {},
   "outputs": [],
   "source": [
    "data.to_csv('data')"
   ]
  }
 ],
 "metadata": {
  "kernelspec": {
   "display_name": "Python 3",
   "language": "python",
   "name": "python3"
  },
  "language_info": {
   "codemirror_mode": {
    "name": "ipython",
    "version": 3
   },
   "file_extension": ".py",
   "mimetype": "text/x-python",
   "name": "python",
   "nbconvert_exporter": "python",
   "pygments_lexer": "ipython3",
   "version": "3.8.5"
  }
 },
 "nbformat": 4,
 "nbformat_minor": 4
}
